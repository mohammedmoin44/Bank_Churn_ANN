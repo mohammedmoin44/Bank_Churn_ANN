{
  "nbformat": 4,
  "nbformat_minor": 0,
  "metadata": {
    "colab": {
      "name": "Bank_churn_analysis.ipynb",
      "provenance": [],
      "authorship_tag": "ABX9TyN5tprYjuLUiOmx8U82dWEI",
      "include_colab_link": true
    },
    "kernelspec": {
      "name": "python3",
      "display_name": "Python 3"
    },
    "language_info": {
      "name": "python"
    }
  },
  "cells": [
    {
      "cell_type": "markdown",
      "metadata": {
        "id": "view-in-github",
        "colab_type": "text"
      },
      "source": [
        "<a href=\"https://colab.research.google.com/github/mohammedmoin44/Bank_Curch_ANN/blob/main/Bank_churn_analysis.ipynb\" target=\"_parent\"><img src=\"https://colab.research.google.com/assets/colab-badge.svg\" alt=\"Open In Colab\"/></a>"
      ]
    },
    {
      "cell_type": "code",
      "execution_count": null,
      "metadata": {
        "colab": {
          "resources": {
            "http://localhost:8080/nbextensions/google.colab/files.js": {
              "data": "Ly8gQ29weXJpZ2h0IDIwMTcgR29vZ2xlIExMQwovLwovLyBMaWNlbnNlZCB1bmRlciB0aGUgQXBhY2hlIExpY2Vuc2UsIFZlcnNpb24gMi4wICh0aGUgIkxpY2Vuc2UiKTsKLy8geW91IG1heSBub3QgdXNlIHRoaXMgZmlsZSBleGNlcHQgaW4gY29tcGxpYW5jZSB3aXRoIHRoZSBMaWNlbnNlLgovLyBZb3UgbWF5IG9idGFpbiBhIGNvcHkgb2YgdGhlIExpY2Vuc2UgYXQKLy8KLy8gICAgICBodHRwOi8vd3d3LmFwYWNoZS5vcmcvbGljZW5zZXMvTElDRU5TRS0yLjAKLy8KLy8gVW5sZXNzIHJlcXVpcmVkIGJ5IGFwcGxpY2FibGUgbGF3IG9yIGFncmVlZCB0byBpbiB3cml0aW5nLCBzb2Z0d2FyZQovLyBkaXN0cmlidXRlZCB1bmRlciB0aGUgTGljZW5zZSBpcyBkaXN0cmlidXRlZCBvbiBhbiAiQVMgSVMiIEJBU0lTLAovLyBXSVRIT1VUIFdBUlJBTlRJRVMgT1IgQ09ORElUSU9OUyBPRiBBTlkgS0lORCwgZWl0aGVyIGV4cHJlc3Mgb3IgaW1wbGllZC4KLy8gU2VlIHRoZSBMaWNlbnNlIGZvciB0aGUgc3BlY2lmaWMgbGFuZ3VhZ2UgZ292ZXJuaW5nIHBlcm1pc3Npb25zIGFuZAovLyBsaW1pdGF0aW9ucyB1bmRlciB0aGUgTGljZW5zZS4KCi8qKgogKiBAZmlsZW92ZXJ2aWV3IEhlbHBlcnMgZm9yIGdvb2dsZS5jb2xhYiBQeXRob24gbW9kdWxlLgogKi8KKGZ1bmN0aW9uKHNjb3BlKSB7CmZ1bmN0aW9uIHNwYW4odGV4dCwgc3R5bGVBdHRyaWJ1dGVzID0ge30pIHsKICBjb25zdCBlbGVtZW50ID0gZG9jdW1lbnQuY3JlYXRlRWxlbWVudCgnc3BhbicpOwogIGVsZW1lbnQudGV4dENvbnRlbnQgPSB0ZXh0OwogIGZvciAoY29uc3Qga2V5IG9mIE9iamVjdC5rZXlzKHN0eWxlQXR0cmlidXRlcykpIHsKICAgIGVsZW1lbnQuc3R5bGVba2V5XSA9IHN0eWxlQXR0cmlidXRlc1trZXldOwogIH0KICByZXR1cm4gZWxlbWVudDsKfQoKLy8gTWF4IG51bWJlciBvZiBieXRlcyB3aGljaCB3aWxsIGJlIHVwbG9hZGVkIGF0IGEgdGltZS4KY29uc3QgTUFYX1BBWUxPQURfU0laRSA9IDEwMCAqIDEwMjQ7CgpmdW5jdGlvbiBfdXBsb2FkRmlsZXMoaW5wdXRJZCwgb3V0cHV0SWQpIHsKICBjb25zdCBzdGVwcyA9IHVwbG9hZEZpbGVzU3RlcChpbnB1dElkLCBvdXRwdXRJZCk7CiAgY29uc3Qgb3V0cHV0RWxlbWVudCA9IGRvY3VtZW50LmdldEVsZW1lbnRCeUlkKG91dHB1dElkKTsKICAvLyBDYWNoZSBzdGVwcyBvbiB0aGUgb3V0cHV0RWxlbWVudCB0byBtYWtlIGl0IGF2YWlsYWJsZSBmb3IgdGhlIG5leHQgY2FsbAogIC8vIHRvIHVwbG9hZEZpbGVzQ29udGludWUgZnJvbSBQeXRob24uCiAgb3V0cHV0RWxlbWVudC5zdGVwcyA9IHN0ZXBzOwoKICByZXR1cm4gX3VwbG9hZEZpbGVzQ29udGludWUob3V0cHV0SWQpOwp9CgovLyBUaGlzIGlzIHJvdWdobHkgYW4gYXN5bmMgZ2VuZXJhdG9yIChub3Qgc3VwcG9ydGVkIGluIHRoZSBicm93c2VyIHlldCksCi8vIHdoZXJlIHRoZXJlIGFyZSBtdWx0aXBsZSBhc3luY2hyb25vdXMgc3RlcHMgYW5kIHRoZSBQeXRob24gc2lkZSBpcyBnb2luZwovLyB0byBwb2xsIGZvciBjb21wbGV0aW9uIG9mIGVhY2ggc3RlcC4KLy8gVGhpcyB1c2VzIGEgUHJvbWlzZSB0byBibG9jayB0aGUgcHl0aG9uIHNpZGUgb24gY29tcGxldGlvbiBvZiBlYWNoIHN0ZXAsCi8vIHRoZW4gcGFzc2VzIHRoZSByZXN1bHQgb2YgdGhlIHByZXZpb3VzIHN0ZXAgYXMgdGhlIGlucHV0IHRvIHRoZSBuZXh0IHN0ZXAuCmZ1bmN0aW9uIF91cGxvYWRGaWxlc0NvbnRpbnVlKG91dHB1dElkKSB7CiAgY29uc3Qgb3V0cHV0RWxlbWVudCA9IGRvY3VtZW50LmdldEVsZW1lbnRCeUlkKG91dHB1dElkKTsKICBjb25zdCBzdGVwcyA9IG91dHB1dEVsZW1lbnQuc3RlcHM7CgogIGNvbnN0IG5leHQgPSBzdGVwcy5uZXh0KG91dHB1dEVsZW1lbnQubGFzdFByb21pc2VWYWx1ZSk7CiAgcmV0dXJuIFByb21pc2UucmVzb2x2ZShuZXh0LnZhbHVlLnByb21pc2UpLnRoZW4oKHZhbHVlKSA9PiB7CiAgICAvLyBDYWNoZSB0aGUgbGFzdCBwcm9taXNlIHZhbHVlIHRvIG1ha2UgaXQgYXZhaWxhYmxlIHRvIHRoZSBuZXh0CiAgICAvLyBzdGVwIG9mIHRoZSBnZW5lcmF0b3IuCiAgICBvdXRwdXRFbGVtZW50Lmxhc3RQcm9taXNlVmFsdWUgPSB2YWx1ZTsKICAgIHJldHVybiBuZXh0LnZhbHVlLnJlc3BvbnNlOwogIH0pOwp9CgovKioKICogR2VuZXJhdG9yIGZ1bmN0aW9uIHdoaWNoIGlzIGNhbGxlZCBiZXR3ZWVuIGVhY2ggYXN5bmMgc3RlcCBvZiB0aGUgdXBsb2FkCiAqIHByb2Nlc3MuCiAqIEBwYXJhbSB7c3RyaW5nfSBpbnB1dElkIEVsZW1lbnQgSUQgb2YgdGhlIGlucHV0IGZpbGUgcGlja2VyIGVsZW1lbnQuCiAqIEBwYXJhbSB7c3RyaW5nfSBvdXRwdXRJZCBFbGVtZW50IElEIG9mIHRoZSBvdXRwdXQgZGlzcGxheS4KICogQHJldHVybiB7IUl0ZXJhYmxlPCFPYmplY3Q+fSBJdGVyYWJsZSBvZiBuZXh0IHN0ZXBzLgogKi8KZnVuY3Rpb24qIHVwbG9hZEZpbGVzU3RlcChpbnB1dElkLCBvdXRwdXRJZCkgewogIGNvbnN0IGlucHV0RWxlbWVudCA9IGRvY3VtZW50LmdldEVsZW1lbnRCeUlkKGlucHV0SWQpOwogIGlucHV0RWxlbWVudC5kaXNhYmxlZCA9IGZhbHNlOwoKICBjb25zdCBvdXRwdXRFbGVtZW50ID0gZG9jdW1lbnQuZ2V0RWxlbWVudEJ5SWQob3V0cHV0SWQpOwogIG91dHB1dEVsZW1lbnQuaW5uZXJIVE1MID0gJyc7CgogIGNvbnN0IHBpY2tlZFByb21pc2UgPSBuZXcgUHJvbWlzZSgocmVzb2x2ZSkgPT4gewogICAgaW5wdXRFbGVtZW50LmFkZEV2ZW50TGlzdGVuZXIoJ2NoYW5nZScsIChlKSA9PiB7CiAgICAgIHJlc29sdmUoZS50YXJnZXQuZmlsZXMpOwogICAgfSk7CiAgfSk7CgogIGNvbnN0IGNhbmNlbCA9IGRvY3VtZW50LmNyZWF0ZUVsZW1lbnQoJ2J1dHRvbicpOwogIGlucHV0RWxlbWVudC5wYXJlbnRFbGVtZW50LmFwcGVuZENoaWxkKGNhbmNlbCk7CiAgY2FuY2VsLnRleHRDb250ZW50ID0gJ0NhbmNlbCB1cGxvYWQnOwogIGNvbnN0IGNhbmNlbFByb21pc2UgPSBuZXcgUHJvbWlzZSgocmVzb2x2ZSkgPT4gewogICAgY2FuY2VsLm9uY2xpY2sgPSAoKSA9PiB7CiAgICAgIHJlc29sdmUobnVsbCk7CiAgICB9OwogIH0pOwoKICAvLyBXYWl0IGZvciB0aGUgdXNlciB0byBwaWNrIHRoZSBmaWxlcy4KICBjb25zdCBmaWxlcyA9IHlpZWxkIHsKICAgIHByb21pc2U6IFByb21pc2UucmFjZShbcGlja2VkUHJvbWlzZSwgY2FuY2VsUHJvbWlzZV0pLAogICAgcmVzcG9uc2U6IHsKICAgICAgYWN0aW9uOiAnc3RhcnRpbmcnLAogICAgfQogIH07CgogIGNhbmNlbC5yZW1vdmUoKTsKCiAgLy8gRGlzYWJsZSB0aGUgaW5wdXQgZWxlbWVudCBzaW5jZSBmdXJ0aGVyIHBpY2tzIGFyZSBub3QgYWxsb3dlZC4KICBpbnB1dEVsZW1lbnQuZGlzYWJsZWQgPSB0cnVlOwoKICBpZiAoIWZpbGVzKSB7CiAgICByZXR1cm4gewogICAgICByZXNwb25zZTogewogICAgICAgIGFjdGlvbjogJ2NvbXBsZXRlJywKICAgICAgfQogICAgfTsKICB9CgogIGZvciAoY29uc3QgZmlsZSBvZiBmaWxlcykgewogICAgY29uc3QgbGkgPSBkb2N1bWVudC5jcmVhdGVFbGVtZW50KCdsaScpOwogICAgbGkuYXBwZW5kKHNwYW4oZmlsZS5uYW1lLCB7Zm9udFdlaWdodDogJ2JvbGQnfSkpOwogICAgbGkuYXBwZW5kKHNwYW4oCiAgICAgICAgYCgke2ZpbGUudHlwZSB8fCAnbi9hJ30pIC0gJHtmaWxlLnNpemV9IGJ5dGVzLCBgICsKICAgICAgICBgbGFzdCBtb2RpZmllZDogJHsKICAgICAgICAgICAgZmlsZS5sYXN0TW9kaWZpZWREYXRlID8gZmlsZS5sYXN0TW9kaWZpZWREYXRlLnRvTG9jYWxlRGF0ZVN0cmluZygpIDoKICAgICAgICAgICAgICAgICAgICAgICAgICAgICAgICAgICAgJ24vYSd9IC0gYCkpOwogICAgY29uc3QgcGVyY2VudCA9IHNwYW4oJzAlIGRvbmUnKTsKICAgIGxpLmFwcGVuZENoaWxkKHBlcmNlbnQpOwoKICAgIG91dHB1dEVsZW1lbnQuYXBwZW5kQ2hpbGQobGkpOwoKICAgIGNvbnN0IGZpbGVEYXRhUHJvbWlzZSA9IG5ldyBQcm9taXNlKChyZXNvbHZlKSA9PiB7CiAgICAgIGNvbnN0IHJlYWRlciA9IG5ldyBGaWxlUmVhZGVyKCk7CiAgICAgIHJlYWRlci5vbmxvYWQgPSAoZSkgPT4gewogICAgICAgIHJlc29sdmUoZS50YXJnZXQucmVzdWx0KTsKICAgICAgfTsKICAgICAgcmVhZGVyLnJlYWRBc0FycmF5QnVmZmVyKGZpbGUpOwogICAgfSk7CiAgICAvLyBXYWl0IGZvciB0aGUgZGF0YSB0byBiZSByZWFkeS4KICAgIGxldCBmaWxlRGF0YSA9IHlpZWxkIHsKICAgICAgcHJvbWlzZTogZmlsZURhdGFQcm9taXNlLAogICAgICByZXNwb25zZTogewogICAgICAgIGFjdGlvbjogJ2NvbnRpbnVlJywKICAgICAgfQogICAgfTsKCiAgICAvLyBVc2UgYSBjaHVua2VkIHNlbmRpbmcgdG8gYXZvaWQgbWVzc2FnZSBzaXplIGxpbWl0cy4gU2VlIGIvNjIxMTU2NjAuCiAgICBsZXQgcG9zaXRpb24gPSAwOwogICAgZG8gewogICAgICBjb25zdCBsZW5ndGggPSBNYXRoLm1pbihmaWxlRGF0YS5ieXRlTGVuZ3RoIC0gcG9zaXRpb24sIE1BWF9QQVlMT0FEX1NJWkUpOwogICAgICBjb25zdCBjaHVuayA9IG5ldyBVaW50OEFycmF5KGZpbGVEYXRhLCBwb3NpdGlvbiwgbGVuZ3RoKTsKICAgICAgcG9zaXRpb24gKz0gbGVuZ3RoOwoKICAgICAgY29uc3QgYmFzZTY0ID0gYnRvYShTdHJpbmcuZnJvbUNoYXJDb2RlLmFwcGx5KG51bGwsIGNodW5rKSk7CiAgICAgIHlpZWxkIHsKICAgICAgICByZXNwb25zZTogewogICAgICAgICAgYWN0aW9uOiAnYXBwZW5kJywKICAgICAgICAgIGZpbGU6IGZpbGUubmFtZSwKICAgICAgICAgIGRhdGE6IGJhc2U2NCwKICAgICAgICB9LAogICAgICB9OwoKICAgICAgbGV0IHBlcmNlbnREb25lID0gZmlsZURhdGEuYnl0ZUxlbmd0aCA9PT0gMCA/CiAgICAgICAgICAxMDAgOgogICAgICAgICAgTWF0aC5yb3VuZCgocG9zaXRpb24gLyBmaWxlRGF0YS5ieXRlTGVuZ3RoKSAqIDEwMCk7CiAgICAgIHBlcmNlbnQudGV4dENvbnRlbnQgPSBgJHtwZXJjZW50RG9uZX0lIGRvbmVgOwoKICAgIH0gd2hpbGUgKHBvc2l0aW9uIDwgZmlsZURhdGEuYnl0ZUxlbmd0aCk7CiAgfQoKICAvLyBBbGwgZG9uZS4KICB5aWVsZCB7CiAgICByZXNwb25zZTogewogICAgICBhY3Rpb246ICdjb21wbGV0ZScsCiAgICB9CiAgfTsKfQoKc2NvcGUuZ29vZ2xlID0gc2NvcGUuZ29vZ2xlIHx8IHt9OwpzY29wZS5nb29nbGUuY29sYWIgPSBzY29wZS5nb29nbGUuY29sYWIgfHwge307CnNjb3BlLmdvb2dsZS5jb2xhYi5fZmlsZXMgPSB7CiAgX3VwbG9hZEZpbGVzLAogIF91cGxvYWRGaWxlc0NvbnRpbnVlLAp9Owp9KShzZWxmKTsK",
              "ok": true,
              "headers": [
                [
                  "content-type",
                  "application/javascript"
                ]
              ],
              "status": 200,
              "status_text": "OK"
            }
          },
          "base_uri": "https://localhost:8080/",
          "height": 328
        },
        "id": "58wdTJKWBq4_",
        "outputId": "b8de0e6e-2a04-45d5-dd37-e17a0b5098ca"
      },
      "outputs": [
        {
          "output_type": "display_data",
          "data": {
            "text/html": [
              "\n",
              "     <input type=\"file\" id=\"files-da4c5423-3042-496c-9557-caec1d66c18a\" name=\"files[]\" multiple disabled\n",
              "        style=\"border:none\" />\n",
              "     <output id=\"result-da4c5423-3042-496c-9557-caec1d66c18a\">\n",
              "      Upload widget is only available when the cell has been executed in the\n",
              "      current browser session. Please rerun this cell to enable.\n",
              "      </output>\n",
              "      <script src=\"/nbextensions/google.colab/files.js\"></script> "
            ],
            "text/plain": [
              "<IPython.core.display.HTML object>"
            ]
          },
          "metadata": {}
        },
        {
          "output_type": "stream",
          "name": "stdout",
          "text": [
            "Saving Churn_Modelling.csv to Churn_Modelling (1).csv\n"
          ]
        },
        {
          "output_type": "execute_result",
          "data": {
            "text/html": [
              "\n",
              "  <div id=\"df-a82856c2-9c18-4f5c-a02f-fd19053f0e4a\">\n",
              "    <div class=\"colab-df-container\">\n",
              "      <div>\n",
              "<style scoped>\n",
              "    .dataframe tbody tr th:only-of-type {\n",
              "        vertical-align: middle;\n",
              "    }\n",
              "\n",
              "    .dataframe tbody tr th {\n",
              "        vertical-align: top;\n",
              "    }\n",
              "\n",
              "    .dataframe thead th {\n",
              "        text-align: right;\n",
              "    }\n",
              "</style>\n",
              "<table border=\"1\" class=\"dataframe\">\n",
              "  <thead>\n",
              "    <tr style=\"text-align: right;\">\n",
              "      <th></th>\n",
              "      <th>RowNumber</th>\n",
              "      <th>CustomerId</th>\n",
              "      <th>Surname</th>\n",
              "      <th>CreditScore</th>\n",
              "      <th>Geography</th>\n",
              "      <th>Gender</th>\n",
              "      <th>Age</th>\n",
              "      <th>Tenure</th>\n",
              "      <th>Balance</th>\n",
              "      <th>NumOfProducts</th>\n",
              "      <th>HasCrCard</th>\n",
              "      <th>IsActiveMember</th>\n",
              "      <th>EstimatedSalary</th>\n",
              "      <th>Exited</th>\n",
              "    </tr>\n",
              "  </thead>\n",
              "  <tbody>\n",
              "    <tr>\n",
              "      <th>0</th>\n",
              "      <td>1</td>\n",
              "      <td>15634602</td>\n",
              "      <td>Hargrave</td>\n",
              "      <td>619</td>\n",
              "      <td>France</td>\n",
              "      <td>Female</td>\n",
              "      <td>42</td>\n",
              "      <td>2</td>\n",
              "      <td>0.00</td>\n",
              "      <td>1</td>\n",
              "      <td>1</td>\n",
              "      <td>1</td>\n",
              "      <td>101348.88</td>\n",
              "      <td>1</td>\n",
              "    </tr>\n",
              "    <tr>\n",
              "      <th>1</th>\n",
              "      <td>2</td>\n",
              "      <td>15647311</td>\n",
              "      <td>Hill</td>\n",
              "      <td>608</td>\n",
              "      <td>Spain</td>\n",
              "      <td>Female</td>\n",
              "      <td>41</td>\n",
              "      <td>1</td>\n",
              "      <td>83807.86</td>\n",
              "      <td>1</td>\n",
              "      <td>0</td>\n",
              "      <td>1</td>\n",
              "      <td>112542.58</td>\n",
              "      <td>0</td>\n",
              "    </tr>\n",
              "    <tr>\n",
              "      <th>2</th>\n",
              "      <td>3</td>\n",
              "      <td>15619304</td>\n",
              "      <td>Onio</td>\n",
              "      <td>502</td>\n",
              "      <td>France</td>\n",
              "      <td>Female</td>\n",
              "      <td>42</td>\n",
              "      <td>8</td>\n",
              "      <td>159660.80</td>\n",
              "      <td>3</td>\n",
              "      <td>1</td>\n",
              "      <td>0</td>\n",
              "      <td>113931.57</td>\n",
              "      <td>1</td>\n",
              "    </tr>\n",
              "    <tr>\n",
              "      <th>3</th>\n",
              "      <td>4</td>\n",
              "      <td>15701354</td>\n",
              "      <td>Boni</td>\n",
              "      <td>699</td>\n",
              "      <td>France</td>\n",
              "      <td>Female</td>\n",
              "      <td>39</td>\n",
              "      <td>1</td>\n",
              "      <td>0.00</td>\n",
              "      <td>2</td>\n",
              "      <td>0</td>\n",
              "      <td>0</td>\n",
              "      <td>93826.63</td>\n",
              "      <td>0</td>\n",
              "    </tr>\n",
              "    <tr>\n",
              "      <th>4</th>\n",
              "      <td>5</td>\n",
              "      <td>15737888</td>\n",
              "      <td>Mitchell</td>\n",
              "      <td>850</td>\n",
              "      <td>Spain</td>\n",
              "      <td>Female</td>\n",
              "      <td>43</td>\n",
              "      <td>2</td>\n",
              "      <td>125510.82</td>\n",
              "      <td>1</td>\n",
              "      <td>1</td>\n",
              "      <td>1</td>\n",
              "      <td>79084.10</td>\n",
              "      <td>0</td>\n",
              "    </tr>\n",
              "  </tbody>\n",
              "</table>\n",
              "</div>\n",
              "      <button class=\"colab-df-convert\" onclick=\"convertToInteractive('df-a82856c2-9c18-4f5c-a02f-fd19053f0e4a')\"\n",
              "              title=\"Convert this dataframe to an interactive table.\"\n",
              "              style=\"display:none;\">\n",
              "        \n",
              "  <svg xmlns=\"http://www.w3.org/2000/svg\" height=\"24px\"viewBox=\"0 0 24 24\"\n",
              "       width=\"24px\">\n",
              "    <path d=\"M0 0h24v24H0V0z\" fill=\"none\"/>\n",
              "    <path d=\"M18.56 5.44l.94 2.06.94-2.06 2.06-.94-2.06-.94-.94-2.06-.94 2.06-2.06.94zm-11 1L8.5 8.5l.94-2.06 2.06-.94-2.06-.94L8.5 2.5l-.94 2.06-2.06.94zm10 10l.94 2.06.94-2.06 2.06-.94-2.06-.94-.94-2.06-.94 2.06-2.06.94z\"/><path d=\"M17.41 7.96l-1.37-1.37c-.4-.4-.92-.59-1.43-.59-.52 0-1.04.2-1.43.59L10.3 9.45l-7.72 7.72c-.78.78-.78 2.05 0 2.83L4 21.41c.39.39.9.59 1.41.59.51 0 1.02-.2 1.41-.59l7.78-7.78 2.81-2.81c.8-.78.8-2.07 0-2.86zM5.41 20L4 18.59l7.72-7.72 1.47 1.35L5.41 20z\"/>\n",
              "  </svg>\n",
              "      </button>\n",
              "      \n",
              "  <style>\n",
              "    .colab-df-container {\n",
              "      display:flex;\n",
              "      flex-wrap:wrap;\n",
              "      gap: 12px;\n",
              "    }\n",
              "\n",
              "    .colab-df-convert {\n",
              "      background-color: #E8F0FE;\n",
              "      border: none;\n",
              "      border-radius: 50%;\n",
              "      cursor: pointer;\n",
              "      display: none;\n",
              "      fill: #1967D2;\n",
              "      height: 32px;\n",
              "      padding: 0 0 0 0;\n",
              "      width: 32px;\n",
              "    }\n",
              "\n",
              "    .colab-df-convert:hover {\n",
              "      background-color: #E2EBFA;\n",
              "      box-shadow: 0px 1px 2px rgba(60, 64, 67, 0.3), 0px 1px 3px 1px rgba(60, 64, 67, 0.15);\n",
              "      fill: #174EA6;\n",
              "    }\n",
              "\n",
              "    [theme=dark] .colab-df-convert {\n",
              "      background-color: #3B4455;\n",
              "      fill: #D2E3FC;\n",
              "    }\n",
              "\n",
              "    [theme=dark] .colab-df-convert:hover {\n",
              "      background-color: #434B5C;\n",
              "      box-shadow: 0px 1px 3px 1px rgba(0, 0, 0, 0.15);\n",
              "      filter: drop-shadow(0px 1px 2px rgba(0, 0, 0, 0.3));\n",
              "      fill: #FFFFFF;\n",
              "    }\n",
              "  </style>\n",
              "\n",
              "      <script>\n",
              "        const buttonEl =\n",
              "          document.querySelector('#df-a82856c2-9c18-4f5c-a02f-fd19053f0e4a button.colab-df-convert');\n",
              "        buttonEl.style.display =\n",
              "          google.colab.kernel.accessAllowed ? 'block' : 'none';\n",
              "\n",
              "        async function convertToInteractive(key) {\n",
              "          const element = document.querySelector('#df-a82856c2-9c18-4f5c-a02f-fd19053f0e4a');\n",
              "          const dataTable =\n",
              "            await google.colab.kernel.invokeFunction('convertToInteractive',\n",
              "                                                     [key], {});\n",
              "          if (!dataTable) return;\n",
              "\n",
              "          const docLinkHtml = 'Like what you see? Visit the ' +\n",
              "            '<a target=\"_blank\" href=https://colab.research.google.com/notebooks/data_table.ipynb>data table notebook</a>'\n",
              "            + ' to learn more about interactive tables.';\n",
              "          element.innerHTML = '';\n",
              "          dataTable['output_type'] = 'display_data';\n",
              "          await google.colab.output.renderOutput(dataTable, element);\n",
              "          const docLink = document.createElement('div');\n",
              "          docLink.innerHTML = docLinkHtml;\n",
              "          element.appendChild(docLink);\n",
              "        }\n",
              "      </script>\n",
              "    </div>\n",
              "  </div>\n",
              "  "
            ],
            "text/plain": [
              "   RowNumber  CustomerId   Surname  ...  IsActiveMember EstimatedSalary Exited\n",
              "0          1    15634602  Hargrave  ...               1       101348.88      1\n",
              "1          2    15647311      Hill  ...               1       112542.58      0\n",
              "2          3    15619304      Onio  ...               0       113931.57      1\n",
              "3          4    15701354      Boni  ...               0        93826.63      0\n",
              "4          5    15737888  Mitchell  ...               1        79084.10      0\n",
              "\n",
              "[5 rows x 14 columns]"
            ]
          },
          "metadata": {},
          "execution_count": 1
        }
      ],
      "source": [
        "import pandas as pd\n",
        "from google.colab import files\n",
        "uploaded = files.upload()\n",
        "\n",
        "import io\n",
        "df = pd.read_csv(io.BytesIO(uploaded['Churn_Modelling.csv']))\n",
        "df.head()"
      ]
    },
    {
      "cell_type": "code",
      "source": [
        "#Since CustomerId,Rownumber,surname are does not provide relevant information for churn prediction and hence are droped\n",
        "df.drop(['CustomerId','RowNumber','Surname'],axis='columns',inplace=True)"
      ],
      "metadata": {
        "id": "4FuGnSj2Djx8"
      },
      "execution_count": null,
      "outputs": []
    },
    {
      "cell_type": "code",
      "source": [
        "df.head()"
      ],
      "metadata": {
        "colab": {
          "base_uri": "https://localhost:8080/",
          "height": 270
        },
        "id": "wR6MhnpPEs8e",
        "outputId": "d2ce75a7-8b1b-41c2-a499-65df2f2d6534"
      },
      "execution_count": null,
      "outputs": [
        {
          "output_type": "execute_result",
          "data": {
            "text/html": [
              "\n",
              "  <div id=\"df-2ed5ebc1-eff3-4790-8ae0-53232c0de1c4\">\n",
              "    <div class=\"colab-df-container\">\n",
              "      <div>\n",
              "<style scoped>\n",
              "    .dataframe tbody tr th:only-of-type {\n",
              "        vertical-align: middle;\n",
              "    }\n",
              "\n",
              "    .dataframe tbody tr th {\n",
              "        vertical-align: top;\n",
              "    }\n",
              "\n",
              "    .dataframe thead th {\n",
              "        text-align: right;\n",
              "    }\n",
              "</style>\n",
              "<table border=\"1\" class=\"dataframe\">\n",
              "  <thead>\n",
              "    <tr style=\"text-align: right;\">\n",
              "      <th></th>\n",
              "      <th>CreditScore</th>\n",
              "      <th>Geography</th>\n",
              "      <th>Gender</th>\n",
              "      <th>Age</th>\n",
              "      <th>Tenure</th>\n",
              "      <th>Balance</th>\n",
              "      <th>NumOfProducts</th>\n",
              "      <th>HasCrCard</th>\n",
              "      <th>IsActiveMember</th>\n",
              "      <th>EstimatedSalary</th>\n",
              "      <th>Exited</th>\n",
              "    </tr>\n",
              "  </thead>\n",
              "  <tbody>\n",
              "    <tr>\n",
              "      <th>0</th>\n",
              "      <td>619</td>\n",
              "      <td>France</td>\n",
              "      <td>Female</td>\n",
              "      <td>42</td>\n",
              "      <td>2</td>\n",
              "      <td>0.00</td>\n",
              "      <td>1</td>\n",
              "      <td>1</td>\n",
              "      <td>1</td>\n",
              "      <td>101348.88</td>\n",
              "      <td>1</td>\n",
              "    </tr>\n",
              "    <tr>\n",
              "      <th>1</th>\n",
              "      <td>608</td>\n",
              "      <td>Spain</td>\n",
              "      <td>Female</td>\n",
              "      <td>41</td>\n",
              "      <td>1</td>\n",
              "      <td>83807.86</td>\n",
              "      <td>1</td>\n",
              "      <td>0</td>\n",
              "      <td>1</td>\n",
              "      <td>112542.58</td>\n",
              "      <td>0</td>\n",
              "    </tr>\n",
              "    <tr>\n",
              "      <th>2</th>\n",
              "      <td>502</td>\n",
              "      <td>France</td>\n",
              "      <td>Female</td>\n",
              "      <td>42</td>\n",
              "      <td>8</td>\n",
              "      <td>159660.80</td>\n",
              "      <td>3</td>\n",
              "      <td>1</td>\n",
              "      <td>0</td>\n",
              "      <td>113931.57</td>\n",
              "      <td>1</td>\n",
              "    </tr>\n",
              "    <tr>\n",
              "      <th>3</th>\n",
              "      <td>699</td>\n",
              "      <td>France</td>\n",
              "      <td>Female</td>\n",
              "      <td>39</td>\n",
              "      <td>1</td>\n",
              "      <td>0.00</td>\n",
              "      <td>2</td>\n",
              "      <td>0</td>\n",
              "      <td>0</td>\n",
              "      <td>93826.63</td>\n",
              "      <td>0</td>\n",
              "    </tr>\n",
              "    <tr>\n",
              "      <th>4</th>\n",
              "      <td>850</td>\n",
              "      <td>Spain</td>\n",
              "      <td>Female</td>\n",
              "      <td>43</td>\n",
              "      <td>2</td>\n",
              "      <td>125510.82</td>\n",
              "      <td>1</td>\n",
              "      <td>1</td>\n",
              "      <td>1</td>\n",
              "      <td>79084.10</td>\n",
              "      <td>0</td>\n",
              "    </tr>\n",
              "  </tbody>\n",
              "</table>\n",
              "</div>\n",
              "      <button class=\"colab-df-convert\" onclick=\"convertToInteractive('df-2ed5ebc1-eff3-4790-8ae0-53232c0de1c4')\"\n",
              "              title=\"Convert this dataframe to an interactive table.\"\n",
              "              style=\"display:none;\">\n",
              "        \n",
              "  <svg xmlns=\"http://www.w3.org/2000/svg\" height=\"24px\"viewBox=\"0 0 24 24\"\n",
              "       width=\"24px\">\n",
              "    <path d=\"M0 0h24v24H0V0z\" fill=\"none\"/>\n",
              "    <path d=\"M18.56 5.44l.94 2.06.94-2.06 2.06-.94-2.06-.94-.94-2.06-.94 2.06-2.06.94zm-11 1L8.5 8.5l.94-2.06 2.06-.94-2.06-.94L8.5 2.5l-.94 2.06-2.06.94zm10 10l.94 2.06.94-2.06 2.06-.94-2.06-.94-.94-2.06-.94 2.06-2.06.94z\"/><path d=\"M17.41 7.96l-1.37-1.37c-.4-.4-.92-.59-1.43-.59-.52 0-1.04.2-1.43.59L10.3 9.45l-7.72 7.72c-.78.78-.78 2.05 0 2.83L4 21.41c.39.39.9.59 1.41.59.51 0 1.02-.2 1.41-.59l7.78-7.78 2.81-2.81c.8-.78.8-2.07 0-2.86zM5.41 20L4 18.59l7.72-7.72 1.47 1.35L5.41 20z\"/>\n",
              "  </svg>\n",
              "      </button>\n",
              "      \n",
              "  <style>\n",
              "    .colab-df-container {\n",
              "      display:flex;\n",
              "      flex-wrap:wrap;\n",
              "      gap: 12px;\n",
              "    }\n",
              "\n",
              "    .colab-df-convert {\n",
              "      background-color: #E8F0FE;\n",
              "      border: none;\n",
              "      border-radius: 50%;\n",
              "      cursor: pointer;\n",
              "      display: none;\n",
              "      fill: #1967D2;\n",
              "      height: 32px;\n",
              "      padding: 0 0 0 0;\n",
              "      width: 32px;\n",
              "    }\n",
              "\n",
              "    .colab-df-convert:hover {\n",
              "      background-color: #E2EBFA;\n",
              "      box-shadow: 0px 1px 2px rgba(60, 64, 67, 0.3), 0px 1px 3px 1px rgba(60, 64, 67, 0.15);\n",
              "      fill: #174EA6;\n",
              "    }\n",
              "\n",
              "    [theme=dark] .colab-df-convert {\n",
              "      background-color: #3B4455;\n",
              "      fill: #D2E3FC;\n",
              "    }\n",
              "\n",
              "    [theme=dark] .colab-df-convert:hover {\n",
              "      background-color: #434B5C;\n",
              "      box-shadow: 0px 1px 3px 1px rgba(0, 0, 0, 0.15);\n",
              "      filter: drop-shadow(0px 1px 2px rgba(0, 0, 0, 0.3));\n",
              "      fill: #FFFFFF;\n",
              "    }\n",
              "  </style>\n",
              "\n",
              "      <script>\n",
              "        const buttonEl =\n",
              "          document.querySelector('#df-2ed5ebc1-eff3-4790-8ae0-53232c0de1c4 button.colab-df-convert');\n",
              "        buttonEl.style.display =\n",
              "          google.colab.kernel.accessAllowed ? 'block' : 'none';\n",
              "\n",
              "        async function convertToInteractive(key) {\n",
              "          const element = document.querySelector('#df-2ed5ebc1-eff3-4790-8ae0-53232c0de1c4');\n",
              "          const dataTable =\n",
              "            await google.colab.kernel.invokeFunction('convertToInteractive',\n",
              "                                                     [key], {});\n",
              "          if (!dataTable) return;\n",
              "\n",
              "          const docLinkHtml = 'Like what you see? Visit the ' +\n",
              "            '<a target=\"_blank\" href=https://colab.research.google.com/notebooks/data_table.ipynb>data table notebook</a>'\n",
              "            + ' to learn more about interactive tables.';\n",
              "          element.innerHTML = '';\n",
              "          dataTable['output_type'] = 'display_data';\n",
              "          await google.colab.output.renderOutput(dataTable, element);\n",
              "          const docLink = document.createElement('div');\n",
              "          docLink.innerHTML = docLinkHtml;\n",
              "          element.appendChild(docLink);\n",
              "        }\n",
              "      </script>\n",
              "    </div>\n",
              "  </div>\n",
              "  "
            ],
            "text/plain": [
              "   CreditScore Geography  Gender  ...  IsActiveMember  EstimatedSalary  Exited\n",
              "0          619    France  Female  ...               1        101348.88       1\n",
              "1          608     Spain  Female  ...               1        112542.58       0\n",
              "2          502    France  Female  ...               0        113931.57       1\n",
              "3          699    France  Female  ...               0         93826.63       0\n",
              "4          850     Spain  Female  ...               1         79084.10       0\n",
              "\n",
              "[5 rows x 11 columns]"
            ]
          },
          "metadata": {},
          "execution_count": 3
        }
      ]
    },
    {
      "cell_type": "code",
      "source": [
        "df.dtypes"
      ],
      "metadata": {
        "colab": {
          "base_uri": "https://localhost:8080/"
        },
        "id": "oVaHEoBdExnt",
        "outputId": "da4662e7-9040-49ee-aa7e-78ff4692827d"
      },
      "execution_count": null,
      "outputs": [
        {
          "output_type": "execute_result",
          "data": {
            "text/plain": [
              "CreditScore          int64\n",
              "Geography           object\n",
              "Gender              object\n",
              "Age                  int64\n",
              "Tenure               int64\n",
              "Balance            float64\n",
              "NumOfProducts        int64\n",
              "HasCrCard            int64\n",
              "IsActiveMember       int64\n",
              "EstimatedSalary    float64\n",
              "Exited               int64\n",
              "dtype: object"
            ]
          },
          "metadata": {},
          "execution_count": 4
        }
      ]
    },
    {
      "cell_type": "code",
      "source": [
        "#Creating X and y \n",
        "a =['CreditScore','Geography','Gender','Age','Tenure','Balance','NumOfProducts','HasCrCard','IsActiveMember','EstimatedSalary']\n",
        "X = df[a]\n",
        "y = df['Exited']"
      ],
      "metadata": {
        "id": "T3_xjKm1E8qi"
      },
      "execution_count": null,
      "outputs": []
    },
    {
      "cell_type": "code",
      "source": [
        "X.head()"
      ],
      "metadata": {
        "colab": {
          "base_uri": "https://localhost:8080/",
          "height": 270
        },
        "id": "h2wyC38mJONc",
        "outputId": "ea21c1dc-55a1-4978-a983-4a0cd93349b9"
      },
      "execution_count": null,
      "outputs": [
        {
          "output_type": "execute_result",
          "data": {
            "text/html": [
              "\n",
              "  <div id=\"df-c3e2e3a4-b22f-4b86-a53a-08dbc38cbca7\">\n",
              "    <div class=\"colab-df-container\">\n",
              "      <div>\n",
              "<style scoped>\n",
              "    .dataframe tbody tr th:only-of-type {\n",
              "        vertical-align: middle;\n",
              "    }\n",
              "\n",
              "    .dataframe tbody tr th {\n",
              "        vertical-align: top;\n",
              "    }\n",
              "\n",
              "    .dataframe thead th {\n",
              "        text-align: right;\n",
              "    }\n",
              "</style>\n",
              "<table border=\"1\" class=\"dataframe\">\n",
              "  <thead>\n",
              "    <tr style=\"text-align: right;\">\n",
              "      <th></th>\n",
              "      <th>CreditScore</th>\n",
              "      <th>Geography</th>\n",
              "      <th>Gender</th>\n",
              "      <th>Age</th>\n",
              "      <th>Tenure</th>\n",
              "      <th>Balance</th>\n",
              "      <th>NumOfProducts</th>\n",
              "      <th>HasCrCard</th>\n",
              "      <th>IsActiveMember</th>\n",
              "      <th>EstimatedSalary</th>\n",
              "    </tr>\n",
              "  </thead>\n",
              "  <tbody>\n",
              "    <tr>\n",
              "      <th>0</th>\n",
              "      <td>619</td>\n",
              "      <td>France</td>\n",
              "      <td>Female</td>\n",
              "      <td>42</td>\n",
              "      <td>2</td>\n",
              "      <td>0.00</td>\n",
              "      <td>1</td>\n",
              "      <td>1</td>\n",
              "      <td>1</td>\n",
              "      <td>101348.88</td>\n",
              "    </tr>\n",
              "    <tr>\n",
              "      <th>1</th>\n",
              "      <td>608</td>\n",
              "      <td>Spain</td>\n",
              "      <td>Female</td>\n",
              "      <td>41</td>\n",
              "      <td>1</td>\n",
              "      <td>83807.86</td>\n",
              "      <td>1</td>\n",
              "      <td>0</td>\n",
              "      <td>1</td>\n",
              "      <td>112542.58</td>\n",
              "    </tr>\n",
              "    <tr>\n",
              "      <th>2</th>\n",
              "      <td>502</td>\n",
              "      <td>France</td>\n",
              "      <td>Female</td>\n",
              "      <td>42</td>\n",
              "      <td>8</td>\n",
              "      <td>159660.80</td>\n",
              "      <td>3</td>\n",
              "      <td>1</td>\n",
              "      <td>0</td>\n",
              "      <td>113931.57</td>\n",
              "    </tr>\n",
              "    <tr>\n",
              "      <th>3</th>\n",
              "      <td>699</td>\n",
              "      <td>France</td>\n",
              "      <td>Female</td>\n",
              "      <td>39</td>\n",
              "      <td>1</td>\n",
              "      <td>0.00</td>\n",
              "      <td>2</td>\n",
              "      <td>0</td>\n",
              "      <td>0</td>\n",
              "      <td>93826.63</td>\n",
              "    </tr>\n",
              "    <tr>\n",
              "      <th>4</th>\n",
              "      <td>850</td>\n",
              "      <td>Spain</td>\n",
              "      <td>Female</td>\n",
              "      <td>43</td>\n",
              "      <td>2</td>\n",
              "      <td>125510.82</td>\n",
              "      <td>1</td>\n",
              "      <td>1</td>\n",
              "      <td>1</td>\n",
              "      <td>79084.10</td>\n",
              "    </tr>\n",
              "  </tbody>\n",
              "</table>\n",
              "</div>\n",
              "      <button class=\"colab-df-convert\" onclick=\"convertToInteractive('df-c3e2e3a4-b22f-4b86-a53a-08dbc38cbca7')\"\n",
              "              title=\"Convert this dataframe to an interactive table.\"\n",
              "              style=\"display:none;\">\n",
              "        \n",
              "  <svg xmlns=\"http://www.w3.org/2000/svg\" height=\"24px\"viewBox=\"0 0 24 24\"\n",
              "       width=\"24px\">\n",
              "    <path d=\"M0 0h24v24H0V0z\" fill=\"none\"/>\n",
              "    <path d=\"M18.56 5.44l.94 2.06.94-2.06 2.06-.94-2.06-.94-.94-2.06-.94 2.06-2.06.94zm-11 1L8.5 8.5l.94-2.06 2.06-.94-2.06-.94L8.5 2.5l-.94 2.06-2.06.94zm10 10l.94 2.06.94-2.06 2.06-.94-2.06-.94-.94-2.06-.94 2.06-2.06.94z\"/><path d=\"M17.41 7.96l-1.37-1.37c-.4-.4-.92-.59-1.43-.59-.52 0-1.04.2-1.43.59L10.3 9.45l-7.72 7.72c-.78.78-.78 2.05 0 2.83L4 21.41c.39.39.9.59 1.41.59.51 0 1.02-.2 1.41-.59l7.78-7.78 2.81-2.81c.8-.78.8-2.07 0-2.86zM5.41 20L4 18.59l7.72-7.72 1.47 1.35L5.41 20z\"/>\n",
              "  </svg>\n",
              "      </button>\n",
              "      \n",
              "  <style>\n",
              "    .colab-df-container {\n",
              "      display:flex;\n",
              "      flex-wrap:wrap;\n",
              "      gap: 12px;\n",
              "    }\n",
              "\n",
              "    .colab-df-convert {\n",
              "      background-color: #E8F0FE;\n",
              "      border: none;\n",
              "      border-radius: 50%;\n",
              "      cursor: pointer;\n",
              "      display: none;\n",
              "      fill: #1967D2;\n",
              "      height: 32px;\n",
              "      padding: 0 0 0 0;\n",
              "      width: 32px;\n",
              "    }\n",
              "\n",
              "    .colab-df-convert:hover {\n",
              "      background-color: #E2EBFA;\n",
              "      box-shadow: 0px 1px 2px rgba(60, 64, 67, 0.3), 0px 1px 3px 1px rgba(60, 64, 67, 0.15);\n",
              "      fill: #174EA6;\n",
              "    }\n",
              "\n",
              "    [theme=dark] .colab-df-convert {\n",
              "      background-color: #3B4455;\n",
              "      fill: #D2E3FC;\n",
              "    }\n",
              "\n",
              "    [theme=dark] .colab-df-convert:hover {\n",
              "      background-color: #434B5C;\n",
              "      box-shadow: 0px 1px 3px 1px rgba(0, 0, 0, 0.15);\n",
              "      filter: drop-shadow(0px 1px 2px rgba(0, 0, 0, 0.3));\n",
              "      fill: #FFFFFF;\n",
              "    }\n",
              "  </style>\n",
              "\n",
              "      <script>\n",
              "        const buttonEl =\n",
              "          document.querySelector('#df-c3e2e3a4-b22f-4b86-a53a-08dbc38cbca7 button.colab-df-convert');\n",
              "        buttonEl.style.display =\n",
              "          google.colab.kernel.accessAllowed ? 'block' : 'none';\n",
              "\n",
              "        async function convertToInteractive(key) {\n",
              "          const element = document.querySelector('#df-c3e2e3a4-b22f-4b86-a53a-08dbc38cbca7');\n",
              "          const dataTable =\n",
              "            await google.colab.kernel.invokeFunction('convertToInteractive',\n",
              "                                                     [key], {});\n",
              "          if (!dataTable) return;\n",
              "\n",
              "          const docLinkHtml = 'Like what you see? Visit the ' +\n",
              "            '<a target=\"_blank\" href=https://colab.research.google.com/notebooks/data_table.ipynb>data table notebook</a>'\n",
              "            + ' to learn more about interactive tables.';\n",
              "          element.innerHTML = '';\n",
              "          dataTable['output_type'] = 'display_data';\n",
              "          await google.colab.output.renderOutput(dataTable, element);\n",
              "          const docLink = document.createElement('div');\n",
              "          docLink.innerHTML = docLinkHtml;\n",
              "          element.appendChild(docLink);\n",
              "        }\n",
              "      </script>\n",
              "    </div>\n",
              "  </div>\n",
              "  "
            ],
            "text/plain": [
              "   CreditScore Geography  Gender  ...  HasCrCard  IsActiveMember  EstimatedSalary\n",
              "0          619    France  Female  ...          1               1        101348.88\n",
              "1          608     Spain  Female  ...          0               1        112542.58\n",
              "2          502    France  Female  ...          1               0        113931.57\n",
              "3          699    France  Female  ...          0               0         93826.63\n",
              "4          850     Spain  Female  ...          1               1         79084.10\n",
              "\n",
              "[5 rows x 10 columns]"
            ]
          },
          "metadata": {},
          "execution_count": 6
        }
      ]
    },
    {
      "cell_type": "code",
      "source": [
        "#writing a function to get unique values of columns\n",
        "def print_uniq_val_colm(df):\n",
        "    for column in df:\n",
        "      if df[column].dtypes == 'object':\n",
        "          print(f'{column}:{df[column].unique()}')"
      ],
      "metadata": {
        "id": "9kJhVhOLJYky"
      },
      "execution_count": null,
      "outputs": []
    },
    {
      "cell_type": "code",
      "source": [
        "print_uniq_val_colm(X)"
      ],
      "metadata": {
        "colab": {
          "base_uri": "https://localhost:8080/"
        },
        "id": "QiaV5iyjK9yQ",
        "outputId": "386f3a5c-5a88-411f-fda0-5f2572bd60bd"
      },
      "execution_count": null,
      "outputs": [
        {
          "output_type": "stream",
          "name": "stdout",
          "text": [
            "Geography:['France' 'Spain' 'Germany']\n",
            "Gender:['Female' 'Male']\n"
          ]
        }
      ]
    },
    {
      "cell_type": "code",
      "source": [
        "X.Age.unique()"
      ],
      "metadata": {
        "colab": {
          "base_uri": "https://localhost:8080/"
        },
        "id": "VFhc3AuJL7J7",
        "outputId": "7547d034-c421-4860-fbab-2931a34ba4ad"
      },
      "execution_count": null,
      "outputs": [
        {
          "output_type": "execute_result",
          "data": {
            "text/plain": [
              "array([42, 41, 39, 43, 44, 50, 29, 27, 31, 24, 34, 25, 35, 45, 58, 32, 38,\n",
              "       46, 36, 33, 40, 51, 61, 49, 37, 19, 66, 56, 26, 21, 55, 75, 22, 30,\n",
              "       28, 65, 48, 52, 57, 73, 47, 54, 72, 20, 67, 79, 62, 53, 80, 59, 68,\n",
              "       23, 60, 70, 63, 64, 18, 82, 69, 74, 71, 76, 77, 88, 85, 84, 78, 81,\n",
              "       92, 83])"
            ]
          },
          "metadata": {},
          "execution_count": 9
        }
      ]
    },
    {
      "cell_type": "code",
      "source": [
        "X.CreditScore.unique()"
      ],
      "metadata": {
        "colab": {
          "base_uri": "https://localhost:8080/"
        },
        "id": "M9fINnapMDkW",
        "outputId": "61a3cf54-bab5-4f56-f886-7d522cf091c9"
      },
      "execution_count": null,
      "outputs": [
        {
          "output_type": "execute_result",
          "data": {
            "text/plain": [
              "array([619, 608, 502, 699, 850, 645, 822, 376, 501, 684, 528, 497, 476,\n",
              "       549, 635, 616, 653, 587, 726, 732, 636, 510, 669, 846, 577, 756,\n",
              "       571, 574, 411, 591, 533, 553, 520, 722, 475, 490, 804, 582, 472,\n",
              "       465, 556, 834, 660, 776, 829, 637, 550, 698, 585, 788, 655, 601,\n",
              "       656, 725, 511, 614, 742, 687, 555, 603, 751, 581, 735, 661, 675,\n",
              "       738, 813, 657, 604, 519, 664, 678, 757, 416, 665, 777, 543, 506,\n",
              "       493, 652, 750, 729, 646, 647, 808, 524, 769, 730, 515, 773, 814,\n",
              "       710, 413, 623, 670, 622, 785, 605, 479, 685, 538, 562, 721, 628,\n",
              "       668, 828, 674, 625, 432, 770, 758, 795, 686, 789, 589, 461, 584,\n",
              "       579, 663, 682, 793, 691, 485, 650, 754, 535, 716, 539, 706, 586,\n",
              "       631, 717, 800, 683, 704, 615, 667, 484, 480, 578, 512, 606, 597,\n",
              "       778, 514, 525, 715, 580, 807, 521, 759, 516, 711, 618, 643, 671,\n",
              "       689, 620, 676, 572, 695, 592, 567, 694, 547, 594, 673, 610, 767,\n",
              "       763, 712, 703, 662, 659, 523, 772, 545, 634, 739, 771, 681, 544,\n",
              "       696, 766, 727, 693, 557, 531, 498, 651, 791, 733, 811, 707, 714,\n",
              "       782, 775, 799, 602, 744, 588, 747, 583, 627, 731, 629, 438, 642,\n",
              "       806, 474, 559, 429, 680, 749, 734, 644, 626, 649, 805, 718, 840,\n",
              "       630, 654, 762, 568, 613, 522, 737, 648, 443, 640, 540, 460, 593,\n",
              "       801, 611, 802, 745, 483, 690, 492, 709, 705, 560, 752, 701, 537,\n",
              "       487, 596, 702, 486, 724, 548, 464, 790, 534, 748, 494, 590, 468,\n",
              "       509, 818, 816, 536, 753, 774, 621, 569, 658, 798, 641, 542, 692,\n",
              "       639, 765, 570, 638, 599, 632, 779, 527, 564, 833, 504, 842, 508,\n",
              "       417, 598, 741, 607, 761, 848, 546, 439, 755, 760, 526, 713, 700,\n",
              "       666, 566, 495, 688, 612, 477, 427, 839, 819, 720, 459, 503, 624,\n",
              "       529, 563, 482, 796, 445, 746, 786, 554, 672, 787, 499, 844, 450,\n",
              "       815, 838, 803, 736, 633, 600, 679, 517, 792, 743, 488, 421, 841,\n",
              "       708, 507, 505, 456, 435, 561, 518, 565, 728, 784, 552, 609, 764,\n",
              "       697, 723, 551, 444, 719, 496, 541, 830, 812, 677, 420, 595, 617,\n",
              "       809, 500, 826, 434, 513, 478, 797, 363, 399, 463, 780, 452, 575,\n",
              "       837, 794, 824, 428, 823, 781, 849, 489, 431, 457, 768, 831, 359,\n",
              "       820, 573, 576, 558, 817, 449, 440, 415, 821, 530, 350, 446, 425,\n",
              "       740, 481, 783, 358, 845, 451, 458, 469, 423, 404, 836, 473, 835,\n",
              "       466, 491, 351, 827, 843, 365, 532, 414, 453, 471, 401, 810, 832,\n",
              "       470, 447, 422, 825, 430, 436, 426, 408, 847, 418, 437, 410, 454,\n",
              "       407, 455, 462, 386, 405, 383, 395, 467, 433, 442, 424, 448, 441,\n",
              "       367, 412, 382, 373, 419])"
            ]
          },
          "metadata": {},
          "execution_count": 10
        }
      ]
    },
    {
      "cell_type": "code",
      "source": [
        "X.CreditScore.min()"
      ],
      "metadata": {
        "colab": {
          "base_uri": "https://localhost:8080/"
        },
        "id": "H4qU8cnlMNBu",
        "outputId": "82dae549-f413-4ed7-d3af-b041d7c5eeb7"
      },
      "execution_count": null,
      "outputs": [
        {
          "output_type": "execute_result",
          "data": {
            "text/plain": [
              "350"
            ]
          },
          "metadata": {},
          "execution_count": 11
        }
      ]
    },
    {
      "cell_type": "code",
      "source": [
        "#Since 850 is a maximum credit score the credit score does not contain any outlier\n",
        "X.CreditScore.max()"
      ],
      "metadata": {
        "colab": {
          "base_uri": "https://localhost:8080/"
        },
        "id": "kDIBw9u1MSZh",
        "outputId": "4f1c4e7c-faed-4d22-d2a4-8de0d9cc4059"
      },
      "execution_count": null,
      "outputs": [
        {
          "output_type": "execute_result",
          "data": {
            "text/plain": [
              "850"
            ]
          },
          "metadata": {},
          "execution_count": 12
        }
      ]
    },
    {
      "cell_type": "code",
      "source": [
        "import seaborn as sns\n",
        "import matplotlib.pyplot as plt\n",
        "\n",
        "plt.figure(figsize=(8,8))\n",
        "gr=sns.histplot(data=df,x='Tenure',hue='Exited',multiple=\"dodge\",binwidth = 1)\n",
        "gr.set_xlabel(\"Tenure\",fontsize=14)\n",
        "gr.set_ylabel(\"No of Customers\",fontsize=14)\n",
        "gr.set_title('Bank Customer churn prediction',fontsize=24)"
      ],
      "metadata": {
        "id": "DEUjI7RbqtcG",
        "colab": {
          "base_uri": "https://localhost:8080/",
          "height": 544
        },
        "outputId": "3c8aebcb-d0b4-432c-86af-a3d6a869fc69"
      },
      "execution_count": null,
      "outputs": [
        {
          "output_type": "execute_result",
          "data": {
            "text/plain": [
              "Text(0.5, 1.0, 'Bank Customer churn prediction')"
            ]
          },
          "metadata": {},
          "execution_count": 13
        },
        {
          "output_type": "display_data",
          "data": {
            "image/png": "[encoded data removed]",
            "text/plain": [
              "<Figure size 576x576 with 1 Axes>"
            ]
          },
          "metadata": {
            "needs_background": "light"
          }
        }
      ]
    },
    {
      "cell_type": "markdown",
      "source": [
        "**From the above figure we can see the customer who have tenure between 9 to 10 have pretty high chances of exit relative to the other tenure period**"
      ],
      "metadata": {
        "id": "6KtjpvmfBb_B"
      }
    },
    {
      "cell_type": "code",
      "source": [
        "df.Tenure.max()"
      ],
      "metadata": {
        "colab": {
          "base_uri": "https://localhost:8080/"
        },
        "id": "vTZxINpoyl3j",
        "outputId": "fb5ca837-5480-44d7-b783-a00a98f81115"
      },
      "execution_count": null,
      "outputs": [
        {
          "output_type": "execute_result",
          "data": {
            "text/plain": [
              "10"
            ]
          },
          "metadata": {},
          "execution_count": 14
        }
      ]
    },
    {
      "cell_type": "code",
      "source": [
        "#Since ML only understans numbers the gender column is encoded \n",
        "X['Gender'].replace({'Female':0,'Male':1},inplace=True)"
      ],
      "metadata": {
        "colab": {
          "base_uri": "https://localhost:8080/"
        },
        "id": "ybh7xUjNNkcZ",
        "outputId": "5ba47341-1be7-4c65-ee93-6bda06e80af1"
      },
      "execution_count": null,
      "outputs": [
        {
          "output_type": "stream",
          "name": "stderr",
          "text": [
            "/usr/local/lib/python3.7/dist-packages/pandas/core/generic.py:6619: SettingWithCopyWarning: \n",
            "A value is trying to be set on a copy of a slice from a DataFrame\n",
            "\n",
            "See the caveats in the documentation: https://pandas.pydata.org/pandas-docs/stable/user_guide/indexing.html#returning-a-view-versus-a-copy\n",
            "  return self._update_inplace(result)\n"
          ]
        }
      ]
    },
    {
      "cell_type": "code",
      "source": [
        "X = pd.get_dummies(data= X,columns=['Geography'])"
      ],
      "metadata": {
        "id": "RZ_VswcBNkT_"
      },
      "execution_count": null,
      "outputs": []
    },
    {
      "cell_type": "code",
      "source": [
        "X.IsActiveMember.unique()"
      ],
      "metadata": {
        "colab": {
          "base_uri": "https://localhost:8080/"
        },
        "id": "_OsEjN7uP9RS",
        "outputId": "3f7ad5dc-6a62-4464-b854-46b7120761f1"
      },
      "execution_count": null,
      "outputs": [
        {
          "output_type": "execute_result",
          "data": {
            "text/plain": [
              "array([1, 0])"
            ]
          },
          "metadata": {},
          "execution_count": 17
        }
      ]
    },
    {
      "cell_type": "code",
      "source": [
        "X.HasCrCard.unique()"
      ],
      "metadata": {
        "colab": {
          "base_uri": "https://localhost:8080/"
        },
        "id": "oeNG4EOPQUdS",
        "outputId": "cf0f43f7-4e72-4c25-c2c2-72a288cf61c2"
      },
      "execution_count": null,
      "outputs": [
        {
          "output_type": "execute_result",
          "data": {
            "text/plain": [
              "array([1, 0])"
            ]
          },
          "metadata": {},
          "execution_count": 18
        }
      ]
    },
    {
      "cell_type": "code",
      "source": [
        "X.dtypes"
      ],
      "metadata": {
        "colab": {
          "base_uri": "https://localhost:8080/"
        },
        "id": "Mn66x89APnBs",
        "outputId": "7f2bb8b1-396c-4888-da75-41da16b061a4"
      },
      "execution_count": null,
      "outputs": [
        {
          "output_type": "execute_result",
          "data": {
            "text/plain": [
              "CreditScore            int64\n",
              "Gender                 int64\n",
              "Age                    int64\n",
              "Tenure                 int64\n",
              "Balance              float64\n",
              "NumOfProducts          int64\n",
              "HasCrCard              int64\n",
              "IsActiveMember         int64\n",
              "EstimatedSalary      float64\n",
              "Geography_France       uint8\n",
              "Geography_Germany      uint8\n",
              "Geography_Spain        uint8\n",
              "dtype: object"
            ]
          },
          "metadata": {},
          "execution_count": 19
        }
      ]
    },
    {
      "cell_type": "code",
      "source": [
        "#chosing columns for scaling using minmax scaler\n",
        "to_be_scl = ['CreditScore','Age','Tenure','Balance','NumOfProducts','EstimatedSalary']"
      ],
      "metadata": {
        "id": "TYrKKi7oRKth"
      },
      "execution_count": null,
      "outputs": []
    },
    {
      "cell_type": "code",
      "source": [
        "#importing minmax scaler for scaling\n",
        "from sklearn.preprocessing import MinMaxScaler\n",
        "scaler = MinMaxScaler()\n",
        "X[to_be_scl] = scaler.fit_transform(X[to_be_scl])\n"
      ],
      "metadata": {
        "id": "Zkp5E6E8Qj9W"
      },
      "execution_count": null,
      "outputs": []
    },
    {
      "cell_type": "code",
      "source": [
        "#Getting unique value of each column from a dataframe\n",
        "\n",
        "for col in X:\n",
        "    print(f'{col}: {X[col].unique()}')"
      ],
      "metadata": {
        "colab": {
          "base_uri": "https://localhost:8080/"
        },
        "id": "Yik6iF7IRufK",
        "outputId": "6942c57b-b38f-4a3b-9f42-789eee018d92"
      },
      "execution_count": null,
      "outputs": [
        {
          "output_type": "stream",
          "name": "stdout",
          "text": [
            "CreditScore: [0.538 0.516 0.304 0.698 1.    0.59  0.944 0.052 0.302 0.668 0.356 0.294\n",
            " 0.252 0.398 0.57  0.532 0.606 0.474 0.752 0.764 0.572 0.32  0.638 0.992\n",
            " 0.454 0.812 0.442 0.448 0.122 0.482 0.366 0.406 0.34  0.744 0.25  0.28\n",
            " 0.908 0.464 0.244 0.23  0.412 0.968 0.62  0.852 0.958 0.574 0.4   0.696\n",
            " 0.47  0.876 0.61  0.502 0.612 0.75  0.322 0.528 0.784 0.674 0.41  0.506\n",
            " 0.802 0.462 0.77  0.622 0.65  0.776 0.926 0.614 0.508 0.338 0.628 0.656\n",
            " 0.814 0.132 0.63  0.854 0.386 0.312 0.286 0.604 0.8   0.758 0.592 0.594\n",
            " 0.916 0.348 0.838 0.76  0.33  0.846 0.928 0.72  0.126 0.546 0.64  0.544\n",
            " 0.87  0.51  0.258 0.67  0.376 0.424 0.742 0.556 0.636 0.956 0.648 0.55\n",
            " 0.164 0.84  0.816 0.89  0.672 0.878 0.478 0.222 0.468 0.458 0.626 0.664\n",
            " 0.886 0.682 0.27  0.6   0.808 0.37  0.732 0.378 0.712 0.472 0.562 0.734\n",
            " 0.9   0.666 0.708 0.53  0.634 0.268 0.26  0.456 0.324 0.512 0.494 0.856\n",
            " 0.328 0.35  0.73  0.46  0.914 0.342 0.818 0.332 0.722 0.536 0.586 0.642\n",
            " 0.678 0.54  0.652 0.444 0.69  0.484 0.434 0.688 0.394 0.488 0.646 0.52\n",
            " 0.834 0.826 0.724 0.706 0.624 0.618 0.346 0.844 0.39  0.568 0.778 0.842\n",
            " 0.662 0.388 0.692 0.832 0.754 0.686 0.414 0.362 0.296 0.602 0.882 0.766\n",
            " 0.922 0.714 0.728 0.864 0.85  0.898 0.504 0.788 0.476 0.794 0.466 0.554\n",
            " 0.762 0.558 0.176 0.584 0.912 0.248 0.418 0.158 0.66  0.798 0.768 0.588\n",
            " 0.552 0.598 0.91  0.736 0.98  0.56  0.608 0.824 0.436 0.526 0.344 0.774\n",
            " 0.596 0.186 0.58  0.38  0.22  0.486 0.902 0.522 0.904 0.79  0.266 0.68\n",
            " 0.284 0.718 0.71  0.42  0.804 0.702 0.374 0.274 0.492 0.704 0.272 0.748\n",
            " 0.396 0.228 0.88  0.368 0.796 0.288 0.48  0.236 0.318 0.936 0.932 0.372\n",
            " 0.806 0.848 0.542 0.438 0.616 0.896 0.582 0.384 0.684 0.578 0.83  0.44\n",
            " 0.576 0.498 0.564 0.858 0.354 0.428 0.966 0.308 0.984 0.316 0.134 0.496\n",
            " 0.782 0.514 0.822 0.996 0.392 0.178 0.81  0.82  0.352 0.726 0.7   0.632\n",
            " 0.432 0.29  0.676 0.524 0.254 0.154 0.978 0.938 0.74  0.218 0.306 0.548\n",
            " 0.358 0.426 0.264 0.892 0.19  0.792 0.872 0.408 0.644 0.874 0.298 0.988\n",
            " 0.2   0.93  0.976 0.906 0.772 0.566 0.5   0.658 0.334 0.884 0.786 0.276\n",
            " 0.142 0.982 0.716 0.314 0.31  0.212 0.17  0.422 0.336 0.43  0.756 0.868\n",
            " 0.404 0.518 0.828 0.694 0.746 0.402 0.188 0.738 0.292 0.382 0.96  0.924\n",
            " 0.654 0.14  0.49  0.534 0.918 0.3   0.952 0.168 0.326 0.256 0.894 0.026\n",
            " 0.098 0.226 0.86  0.204 0.45  0.974 0.888 0.948 0.156 0.946 0.862 0.998\n",
            " 0.278 0.162 0.214 0.836 0.962 0.018 0.94  0.446 0.452 0.416 0.934 0.198\n",
            " 0.18  0.13  0.942 0.36  0.    0.192 0.15  0.78  0.262 0.866 0.016 0.99\n",
            " 0.202 0.216 0.238 0.146 0.108 0.972 0.246 0.97  0.232 0.282 0.002 0.954\n",
            " 0.986 0.03  0.364 0.128 0.206 0.242 0.102 0.92  0.964 0.24  0.194 0.144\n",
            " 0.95  0.16  0.172 0.152 0.116 0.994 0.136 0.174 0.12  0.208 0.114 0.21\n",
            " 0.224 0.072 0.11  0.066 0.09  0.234 0.166 0.184 0.148 0.196 0.182 0.034\n",
            " 0.124 0.064 0.046 0.138]\n",
            "Gender: [0 1]\n",
            "Age: [0.32432432 0.31081081 0.28378378 0.33783784 0.35135135 0.43243243\n",
            " 0.14864865 0.12162162 0.17567568 0.08108108 0.21621622 0.09459459\n",
            " 0.22972973 0.36486486 0.54054054 0.18918919 0.27027027 0.37837838\n",
            " 0.24324324 0.2027027  0.2972973  0.44594595 0.58108108 0.41891892\n",
            " 0.25675676 0.01351351 0.64864865 0.51351351 0.10810811 0.04054054\n",
            " 0.5        0.77027027 0.05405405 0.16216216 0.13513514 0.63513514\n",
            " 0.40540541 0.45945946 0.52702703 0.74324324 0.39189189 0.48648649\n",
            " 0.72972973 0.02702703 0.66216216 0.82432432 0.59459459 0.47297297\n",
            " 0.83783784 0.55405405 0.67567568 0.06756757 0.56756757 0.7027027\n",
            " 0.60810811 0.62162162 0.         0.86486486 0.68918919 0.75675676\n",
            " 0.71621622 0.78378378 0.7972973  0.94594595 0.90540541 0.89189189\n",
            " 0.81081081 0.85135135 1.         0.87837838]\n",
            "Tenure: [0.2 0.1 0.8 0.7 0.4 0.6 0.3 1.  0.5 0.9 0. ]\n",
            "Balance: [0.         0.33403148 0.63635718 ... 0.22865702 0.29922631 0.51870777]\n",
            "NumOfProducts: [0.         0.66666667 0.33333333 1.        ]\n",
            "HasCrCard: [1 0]\n",
            "IsActiveMember: [1 0]\n",
            "EstimatedSalary: [0.50673489 0.56270874 0.56965435 ... 0.21039009 0.46442905 0.19091423]\n",
            "Geography_France: [1 0]\n",
            "Geography_Germany: [0 1]\n",
            "Geography_Spain: [0 1]\n"
          ]
        }
      ]
    },
    {
      "cell_type": "code",
      "source": [
        "plt.figure(figsize=(8,8))\n",
        "gr=sns.histplot(data=df,x='Balance',hue='Exited',multiple=\"dodge\")\n",
        "gr.set_xlabel(\"Balance\",fontsize=14)\n",
        "gr.set_ylabel(\"No of Customers\",fontsize=14)\n",
        "gr.set_title('Bank Customer churn prediction',fontsize=24)"
      ],
      "metadata": {
        "colab": {
          "base_uri": "https://localhost:8080/",
          "height": 544
        },
        "id": "68l9CuR8DZS9",
        "outputId": "19f97d7a-4d33-4084-f411-a8747f3ca5b6"
      },
      "execution_count": null,
      "outputs": [
        {
          "output_type": "execute_result",
          "data": {
            "text/plain": [
              "Text(0.5, 1.0, 'Bank Customer churn prediction')"
            ]
          },
          "metadata": {},
          "execution_count": 44
        },
        {
          "output_type": "display_data",
          "data": {
            "image/png": "[encoded data removed]",
            "text/plain": [
              "<Figure size 576x576 with 1 Axes>"
            ]
          },
          "metadata": {
            "needs_background": "light"
          }
        }
      ]
    },
    {
      "cell_type": "markdown",
      "source": [
        "# From the above figure we can see the customer who have Zero balance have pretty high chances of exit "
      ],
      "metadata": {
        "id": "YtL1G56XFtr0"
      }
    },
    {
      "cell_type": "code",
      "source": [
        "plt.figure(figsize=(8,8))\n",
        "gr=sns.histplot(data=df,x='CreditScore',hue='Exited',multiple=\"dodge\")\n",
        "gr.set_xlabel(\"Credit Score\",fontsize=14)\n",
        "gr.set_ylabel(\"No of Customers\",fontsize=14)\n",
        "gr.set_title('Bank Customer churn prediction',fontsize=24)"
      ],
      "metadata": {
        "colab": {
          "base_uri": "https://localhost:8080/",
          "height": 235
        },
        "id": "Y6PxmIUTG1-0",
        "outputId": "d5a5ecdd-a7fa-4b03-f733-7593e3642fa4"
      },
      "execution_count": null,
      "outputs": [
        {
          "output_type": "error",
          "ename": "NameError",
          "evalue": "ignored",
          "traceback": [
            "\u001b[0;31m---------------------------------------------------------------------------\u001b[0m",
            "\u001b[0;31mNameError\u001b[0m                                 Traceback (most recent call last)",
            "\u001b[0;32m<ipython-input-1-3f0f14649eba>\u001b[0m in \u001b[0;36m<module>\u001b[0;34m()\u001b[0m\n\u001b[0;32m----> 1\u001b[0;31m \u001b[0mplt\u001b[0m\u001b[0;34m.\u001b[0m\u001b[0mfigure\u001b[0m\u001b[0;34m(\u001b[0m\u001b[0mfigsize\u001b[0m\u001b[0;34m=\u001b[0m\u001b[0;34m(\u001b[0m\u001b[0;36m8\u001b[0m\u001b[0;34m,\u001b[0m\u001b[0;36m8\u001b[0m\u001b[0;34m)\u001b[0m\u001b[0;34m)\u001b[0m\u001b[0;34m\u001b[0m\u001b[0;34m\u001b[0m\u001b[0m\n\u001b[0m\u001b[1;32m      2\u001b[0m \u001b[0mgr\u001b[0m\u001b[0;34m=\u001b[0m\u001b[0msns\u001b[0m\u001b[0;34m.\u001b[0m\u001b[0mhistplot\u001b[0m\u001b[0;34m(\u001b[0m\u001b[0mdata\u001b[0m\u001b[0;34m=\u001b[0m\u001b[0mdf\u001b[0m\u001b[0;34m,\u001b[0m\u001b[0mx\u001b[0m\u001b[0;34m=\u001b[0m\u001b[0;34m'CreditScore'\u001b[0m\u001b[0;34m,\u001b[0m\u001b[0mhue\u001b[0m\u001b[0;34m=\u001b[0m\u001b[0;34m'Exited'\u001b[0m\u001b[0;34m,\u001b[0m\u001b[0mmultiple\u001b[0m\u001b[0;34m=\u001b[0m\u001b[0;34m\"dodge\"\u001b[0m\u001b[0;34m)\u001b[0m\u001b[0;34m\u001b[0m\u001b[0;34m\u001b[0m\u001b[0m\n\u001b[1;32m      3\u001b[0m \u001b[0mgr\u001b[0m\u001b[0;34m.\u001b[0m\u001b[0mset_xlabel\u001b[0m\u001b[0;34m(\u001b[0m\u001b[0;34m\"Credit Score\"\u001b[0m\u001b[0;34m,\u001b[0m\u001b[0mfontsize\u001b[0m\u001b[0;34m=\u001b[0m\u001b[0;36m14\u001b[0m\u001b[0;34m)\u001b[0m\u001b[0;34m\u001b[0m\u001b[0;34m\u001b[0m\u001b[0m\n\u001b[1;32m      4\u001b[0m \u001b[0mgr\u001b[0m\u001b[0;34m.\u001b[0m\u001b[0mset_ylabel\u001b[0m\u001b[0;34m(\u001b[0m\u001b[0;34m\"No of Customers\"\u001b[0m\u001b[0;34m,\u001b[0m\u001b[0mfontsize\u001b[0m\u001b[0;34m=\u001b[0m\u001b[0;36m14\u001b[0m\u001b[0;34m)\u001b[0m\u001b[0;34m\u001b[0m\u001b[0;34m\u001b[0m\u001b[0m\n\u001b[1;32m      5\u001b[0m \u001b[0mgr\u001b[0m\u001b[0;34m.\u001b[0m\u001b[0mset_title\u001b[0m\u001b[0;34m(\u001b[0m\u001b[0;34m'Bank Customer churn prediction'\u001b[0m\u001b[0;34m,\u001b[0m\u001b[0mfontsize\u001b[0m\u001b[0;34m=\u001b[0m\u001b[0;36m24\u001b[0m\u001b[0;34m)\u001b[0m\u001b[0;34m\u001b[0m\u001b[0;34m\u001b[0m\u001b[0m\n",
            "\u001b[0;31mNameError\u001b[0m: name 'plt' is not defined"
          ]
        }
      ]
    },
    {
      "cell_type": "markdown",
      "source": [
        "# From the above figure we can see the customer who have credit score between 600 to 700 have pretty high chances of exit relative to other but customers are numbered between 1 to 150 less compared with balance and tenure variables so Credit score has less impact on Exit"
      ],
      "metadata": {
        "id": "9KsEUI3FHmiO"
      }
    },
    {
      "cell_type": "code",
      "source": [
        "plt.figure(figsize=(8,8))\n",
        "gr=sns.histplot(data=df,x='Gender',hue='Exited',multiple=\"dodge\")\n",
        "gr.set_xlabel(\"Gender\",fontsize=14)\n",
        "gr.set_ylabel(\"No of Customers\",fontsize=14)\n",
        "gr.set_title('Bank Customer churn prediction',fontsize=24)"
      ],
      "metadata": {
        "colab": {
          "base_uri": "https://localhost:8080/",
          "height": 544
        },
        "id": "5FysshWfIdDU",
        "outputId": "4f0ece25-57be-492d-ee58-d04e589ff523"
      },
      "execution_count": null,
      "outputs": [
        {
          "output_type": "execute_result",
          "data": {
            "text/plain": [
              "Text(0.5, 1.0, 'Bank Customer churn prediction')"
            ]
          },
          "metadata": {},
          "execution_count": 47
        },
        {
          "output_type": "display_data",
          "data": {
            "image/png": "[encoded data removed]",
            "text/plain": [
              "<Figure size 576x576 with 1 Axes>"
            ]
          },
          "metadata": {
            "needs_background": "light"
          }
        }
      ]
    },
    {
      "cell_type": "markdown",
      "source": [
        "# Female customer's are tend to exit more compare to male customer's"
      ],
      "metadata": {
        "id": "hj69EPVRIyj8"
      }
    },
    {
      "cell_type": "code",
      "source": [
        "\n",
        "plt.figure(figsize=(8,8))\n",
        "gr=sns.histplot(data=df,x='Age',hue='Exited',multiple=\"dodge\")\n",
        "gr.set_xlabel(\"Age\",fontsize=14)\n",
        "gr.set_ylabel(\"No of Customers\",fontsize=14)\n",
        "gr.set_title('Bank Customer churn prediction',fontsize=24)"
      ],
      "metadata": {
        "colab": {
          "base_uri": "https://localhost:8080/",
          "height": 544
        },
        "id": "2qlff2b9Jj7W",
        "outputId": "45dea11d-5790-47da-821f-b31945853d6d"
      },
      "execution_count": null,
      "outputs": [
        {
          "output_type": "execute_result",
          "data": {
            "text/plain": [
              "Text(0.5, 1.0, 'Bank Customer churn prediction')"
            ]
          },
          "metadata": {},
          "execution_count": 48
        },
        {
          "output_type": "display_data",
          "data": {
            "image/png": "[encoded data removed]",
            "text/plain": [
              "<Figure size 576x576 with 1 Axes>"
            ]
          },
          "metadata": {
            "needs_background": "light"
          }
        }
      ]
    },
    {
      "cell_type": "code",
      "source": [
        "plt.figure(figsize=(8,8))\n",
        "gr=sns.histplot(data=df,x='EstimatedSalary',hue='Exited',multiple=\"dodge\")\n",
        "gr.set_xlabel(\"EstimatedSalary\",fontsize=14)\n",
        "gr.set_ylabel(\"No of Customers\",fontsize=14)\n",
        "gr.set_title('Bank Customer churn prediction',fontsize=24)"
      ],
      "metadata": {
        "colab": {
          "base_uri": "https://localhost:8080/",
          "height": 544
        },
        "id": "vxtukRJqJzxG",
        "outputId": "ffd98c76-e453-45b3-9165-0db24a130c8d"
      },
      "execution_count": null,
      "outputs": [
        {
          "output_type": "execute_result",
          "data": {
            "text/plain": [
              "Text(0.5, 1.0, 'Bank Customer churn prediction')"
            ]
          },
          "metadata": {},
          "execution_count": 49
        },
        {
          "output_type": "display_data",
          "data": {
            "image/png": "[encoded data removed]",
            "text/plain": [
              "<Figure size 576x576 with 1 Axes>"
            ]
          },
          "metadata": {
            "needs_background": "light"
          }
        }
      ]
    },
    {
      "cell_type": "code",
      "source": [
        "plt.figure(figsize=(8,8))\n",
        "gr=sns.histplot(data=df,x='IsActiveMember',hue='Exited',multiple=\"dodge\")\n",
        "gr.set_xlabel(\"Is a Active Member\",fontsize=14)\n",
        "gr.set_ylabel(\"No of Customers\",fontsize=14)\n",
        "gr.set_title('Bank Customer churn prediction',fontsize=24)"
      ],
      "metadata": {
        "colab": {
          "base_uri": "https://localhost:8080/",
          "height": 544
        },
        "id": "9FefiSxTNRL7",
        "outputId": "e1f4d0f1-efb6-459d-c69d-cd8d6aa9e5e2"
      },
      "execution_count": null,
      "outputs": [
        {
          "output_type": "execute_result",
          "data": {
            "text/plain": [
              "Text(0.5, 1.0, 'Bank Customer churn prediction')"
            ]
          },
          "metadata": {},
          "execution_count": 50
        },
        {
          "output_type": "display_data",
          "data": {
            "image/png": "[encoded data removed]",
            "text/plain": [
              "<Figure size 576x576 with 1 Axes>"
            ]
          },
          "metadata": {
            "needs_background": "light"
          }
        }
      ]
    },
    {
      "cell_type": "markdown",
      "source": [
        "# Non Active Members tend to exit the bank more compare to active members in 1000's"
      ],
      "metadata": {
        "id": "b8y_bvLYNkrE"
      }
    },
    {
      "cell_type": "code",
      "source": [
        "plt.figure(figsize=(8,8))\n",
        "gr=sns.histplot(data=df,x='Geography',hue='Exited',multiple=\"dodge\")\n",
        "gr.set_xlabel(\"Geography\",fontsize=14)\n",
        "gr.set_ylabel(\"No of Customers\",fontsize=14)\n",
        "gr.set_title('Bank Customer churn prediction',fontsize=24)"
      ],
      "metadata": {
        "colab": {
          "base_uri": "https://localhost:8080/",
          "height": 544
        },
        "id": "wvl5QREMN9if",
        "outputId": "3a8f1484-92c2-42e2-d922-a05fb876bd36"
      },
      "execution_count": null,
      "outputs": [
        {
          "output_type": "execute_result",
          "data": {
            "text/plain": [
              "Text(0.5, 1.0, 'Bank Customer churn prediction')"
            ]
          },
          "metadata": {},
          "execution_count": 51
        },
        {
          "output_type": "display_data",
          "data": {
            "image/png": "[encoded data removed]",
            "text/plain": [
              "<Figure size 576x576 with 1 Axes>"
            ]
          },
          "metadata": {
            "needs_background": "light"
          }
        }
      ]
    },
    {
      "cell_type": "code",
      "source": [
        "plt.figure(figsize=(8,8))\n",
        "gr=sns.histplot(data=df,x='HasCrCard',hue='Exited',multiple=\"dodge\")\n",
        "gr.set_xlabel(\"Has a Credit Card\",fontsize=14)\n",
        "gr.set_ylabel(\"No of Customers\",fontsize=14)\n",
        "gr.set_title('Bank Customer churn prediction',fontsize=24)"
      ],
      "metadata": {
        "colab": {
          "base_uri": "https://localhost:8080/",
          "height": 544
        },
        "id": "di6gQ23FOJmb",
        "outputId": "53ceb279-30bc-447b-f5ae-51cdc349bcc6"
      },
      "execution_count": null,
      "outputs": [
        {
          "output_type": "execute_result",
          "data": {
            "text/plain": [
              "Text(0.5, 1.0, 'Bank Customer churn prediction')"
            ]
          },
          "metadata": {},
          "execution_count": 52
        },
        {
          "output_type": "display_data",
          "data": {
            "image/png": "[encoded data removed]",
            "text/plain": [
              "<Figure size 576x576 with 1 Axes>"
            ]
          },
          "metadata": {
            "needs_background": "light"
          }
        }
      ]
    },
    {
      "cell_type": "markdown",
      "source": [
        "# Customer's who have credit card tend to exit the bank more compare those who don't"
      ],
      "metadata": {
        "id": "aaGlEBWOOd_X"
      }
    },
    {
      "cell_type": "code",
      "source": [
        "plt.figure(figsize=(8,8))\n",
        "gr=sns.histplot(data=df,x='NumOfProducts',hue='Exited',multiple=\"dodge\")\n",
        "gr.set_xlabel(\"Number of Products\",fontsize=14)\n",
        "gr.set_ylabel(\"No of Customers\",fontsize=14)\n",
        "gr.set_title('Bank Customer churn prediction',fontsize=24)"
      ],
      "metadata": {
        "colab": {
          "base_uri": "https://localhost:8080/",
          "height": 544
        },
        "id": "TfXo9La8OufA",
        "outputId": "375869df-ece7-4d25-ef9e-cd42ae8fb1bb"
      },
      "execution_count": null,
      "outputs": [
        {
          "output_type": "execute_result",
          "data": {
            "text/plain": [
              "Text(0.5, 1.0, 'Bank Customer churn prediction')"
            ]
          },
          "metadata": {},
          "execution_count": 54
        },
        {
          "output_type": "display_data",
          "data": {
            "image/png": "[encoded data removed]",
            "text/plain": [
              "<Figure size 576x576 with 1 Axes>"
            ]
          },
          "metadata": {
            "needs_background": "light"
          }
        }
      ]
    },
    {
      "cell_type": "markdown",
      "source": [
        "# Customers who have only one product have tend to exit more"
      ],
      "metadata": {
        "id": "-m9Vn37EPGnP"
      }
    },
    {
      "cell_type": "code",
      "source": [
        "#Dividing dataset for training and testing\n",
        "from sklearn.model_selection import train_test_split\n",
        "x_train,x_test,y_train,y_test = train_test_split(X,y,test_size =0.25,random_state=1,stratify=y)"
      ],
      "metadata": {
        "id": "9jngF-ixSjSZ"
      },
      "execution_count": null,
      "outputs": []
    },
    {
      "cell_type": "code",
      "source": [
        "\n",
        "#importing neede libraries \n",
        "\n",
        "import tensorflow as tf\n",
        "from tensorflow import keras\n",
        "from sklearn.metrics import confusion_matrix , classification_report\n",
        "\n",
        "#defining function that takes  train and test data and gives out the predictios \n",
        "\n",
        "def ANN(X_train, y_train, X_test, y_test, loss):\n",
        "    model = keras.Sequential([\n",
        "        keras.layers.Dense(12, input_dim=12, activation='relu'),\n",
        "        keras.layers.Dense(115, activation='relu'),\n",
        "        keras.layers.Dense(1, activation='sigmoid')\n",
        "    ])\n",
        "\n",
        "    model.compile(optimizer='adam', loss=loss, metrics=['accuracy'])\n",
        "    \n",
        "    model.fit(X_train, y_train, epochs=100)\n",
        "    \n",
        "    print(model.evaluate(X_test, y_test))\n",
        "    \n",
        "    y_preds = model.predict(X_test)\n",
        "    y_preds = np.round(y_preds) \n",
        "    return y_preds\n",
        "\n"
      ],
      "metadata": {
        "id": "MhJ2OZdFT14o"
      },
      "execution_count": null,
      "outputs": []
    },
    {
      "cell_type": "code",
      "source": [
        "\n",
        "import numpy as np\n",
        "y_preds = ANN(x_train, y_train, x_test, y_test,'binary_crossentropy')\n",
        "\n"
      ],
      "metadata": {
        "colab": {
          "base_uri": "https://localhost:8080/"
        },
        "id": "1CjGK7NEUD6i",
        "outputId": "b43047bd-4d59-4fb5-ef01-2277e666032d"
      },
      "execution_count": null,
      "outputs": [
        {
          "output_type": "stream",
          "name": "stdout",
          "text": [
            "Epoch 1/100\n",
            "235/235 [==============================] - 1s 1ms/step - loss: 0.5042 - accuracy: 0.7961\n",
            "Epoch 2/100\n",
            "235/235 [==============================] - 0s 1ms/step - loss: 0.4611 - accuracy: 0.8060\n",
            "Epoch 3/100\n",
            "235/235 [==============================] - 0s 1ms/step - loss: 0.4419 - accuracy: 0.8104\n",
            "Epoch 4/100\n",
            "235/235 [==============================] - 0s 1ms/step - loss: 0.4242 - accuracy: 0.8208\n",
            "Epoch 5/100\n",
            "235/235 [==============================] - 0s 1ms/step - loss: 0.3967 - accuracy: 0.8299\n",
            "Epoch 6/100\n",
            "235/235 [==============================] - 0s 1ms/step - loss: 0.3745 - accuracy: 0.8375\n",
            "Epoch 7/100\n",
            "235/235 [==============================] - 0s 1ms/step - loss: 0.3636 - accuracy: 0.8432\n",
            "Epoch 8/100\n",
            "235/235 [==============================] - 0s 1ms/step - loss: 0.3567 - accuracy: 0.8481\n",
            "Epoch 9/100\n",
            "235/235 [==============================] - 0s 1ms/step - loss: 0.3547 - accuracy: 0.8480\n",
            "Epoch 10/100\n",
            "235/235 [==============================] - 0s 1ms/step - loss: 0.3509 - accuracy: 0.8528\n",
            "Epoch 11/100\n",
            "235/235 [==============================] - 1s 3ms/step - loss: 0.3491 - accuracy: 0.8549\n",
            "Epoch 12/100\n",
            "235/235 [==============================] - 0s 1ms/step - loss: 0.3472 - accuracy: 0.8569\n",
            "Epoch 13/100\n",
            "235/235 [==============================] - 1s 3ms/step - loss: 0.3470 - accuracy: 0.8564\n",
            "Epoch 14/100\n",
            "235/235 [==============================] - 0s 1ms/step - loss: 0.3470 - accuracy: 0.8568\n",
            "Epoch 15/100\n",
            "235/235 [==============================] - 1s 3ms/step - loss: 0.3434 - accuracy: 0.8577\n",
            "Epoch 16/100\n",
            "235/235 [==============================] - 0s 1ms/step - loss: 0.3423 - accuracy: 0.8579\n",
            "Epoch 17/100\n",
            "235/235 [==============================] - 0s 1ms/step - loss: 0.3425 - accuracy: 0.8600\n",
            "Epoch 18/100\n",
            "235/235 [==============================] - 0s 1ms/step - loss: 0.3404 - accuracy: 0.8603\n",
            "Epoch 19/100\n",
            "235/235 [==============================] - 0s 1ms/step - loss: 0.3398 - accuracy: 0.8603\n",
            "Epoch 20/100\n",
            "235/235 [==============================] - 0s 1ms/step - loss: 0.3395 - accuracy: 0.8628\n",
            "Epoch 21/100\n",
            "235/235 [==============================] - 0s 1ms/step - loss: 0.3387 - accuracy: 0.8620\n",
            "Epoch 22/100\n",
            "235/235 [==============================] - 0s 1ms/step - loss: 0.3371 - accuracy: 0.8604\n",
            "Epoch 23/100\n",
            "235/235 [==============================] - 0s 1ms/step - loss: 0.3363 - accuracy: 0.8629\n",
            "Epoch 24/100\n",
            "235/235 [==============================] - 0s 1ms/step - loss: 0.3359 - accuracy: 0.8633\n",
            "Epoch 25/100\n",
            "235/235 [==============================] - 0s 1ms/step - loss: 0.3361 - accuracy: 0.8656\n",
            "Epoch 26/100\n",
            "235/235 [==============================] - 0s 1ms/step - loss: 0.3353 - accuracy: 0.8613\n",
            "Epoch 27/100\n",
            "235/235 [==============================] - 0s 1ms/step - loss: 0.3340 - accuracy: 0.8648\n",
            "Epoch 28/100\n",
            "235/235 [==============================] - 0s 1ms/step - loss: 0.3340 - accuracy: 0.8657\n",
            "Epoch 29/100\n",
            "235/235 [==============================] - 0s 1ms/step - loss: 0.3334 - accuracy: 0.8625\n",
            "Epoch 30/100\n",
            "235/235 [==============================] - 0s 1ms/step - loss: 0.3323 - accuracy: 0.8644\n",
            "Epoch 31/100\n",
            "235/235 [==============================] - 0s 1ms/step - loss: 0.3319 - accuracy: 0.8648\n",
            "Epoch 32/100\n",
            "235/235 [==============================] - 0s 1ms/step - loss: 0.3312 - accuracy: 0.8659\n",
            "Epoch 33/100\n",
            "235/235 [==============================] - 0s 1ms/step - loss: 0.3307 - accuracy: 0.8664\n",
            "Epoch 34/100\n",
            "235/235 [==============================] - 0s 1ms/step - loss: 0.3325 - accuracy: 0.8645\n",
            "Epoch 35/100\n",
            "235/235 [==============================] - 0s 1ms/step - loss: 0.3311 - accuracy: 0.8644\n",
            "Epoch 36/100\n",
            "235/235 [==============================] - 0s 1ms/step - loss: 0.3297 - accuracy: 0.8652\n",
            "Epoch 37/100\n",
            "235/235 [==============================] - 0s 1ms/step - loss: 0.3302 - accuracy: 0.8667\n",
            "Epoch 38/100\n",
            "235/235 [==============================] - 0s 1ms/step - loss: 0.3288 - accuracy: 0.8653\n",
            "Epoch 39/100\n",
            "235/235 [==============================] - 0s 2ms/step - loss: 0.3293 - accuracy: 0.8639\n",
            "Epoch 40/100\n",
            "235/235 [==============================] - 0s 1ms/step - loss: 0.3292 - accuracy: 0.8659\n",
            "Epoch 41/100\n",
            "235/235 [==============================] - 0s 1ms/step - loss: 0.3285 - accuracy: 0.8684\n",
            "Epoch 42/100\n",
            "235/235 [==============================] - 0s 1ms/step - loss: 0.3285 - accuracy: 0.8644\n",
            "Epoch 43/100\n",
            "235/235 [==============================] - 0s 1ms/step - loss: 0.3300 - accuracy: 0.8649\n",
            "Epoch 44/100\n",
            "235/235 [==============================] - 0s 1ms/step - loss: 0.3275 - accuracy: 0.8647\n",
            "Epoch 45/100\n",
            "235/235 [==============================] - 0s 1ms/step - loss: 0.3274 - accuracy: 0.8665\n",
            "Epoch 46/100\n",
            "235/235 [==============================] - 0s 1ms/step - loss: 0.3279 - accuracy: 0.8683\n",
            "Epoch 47/100\n",
            "235/235 [==============================] - 0s 1ms/step - loss: 0.3282 - accuracy: 0.8665\n",
            "Epoch 48/100\n",
            "235/235 [==============================] - 0s 1ms/step - loss: 0.3273 - accuracy: 0.8659\n",
            "Epoch 49/100\n",
            "235/235 [==============================] - 0s 1ms/step - loss: 0.3271 - accuracy: 0.8664\n",
            "Epoch 50/100\n",
            "235/235 [==============================] - 0s 1ms/step - loss: 0.3277 - accuracy: 0.8661\n",
            "Epoch 51/100\n",
            "235/235 [==============================] - 0s 1ms/step - loss: 0.3266 - accuracy: 0.8668\n",
            "Epoch 52/100\n",
            "235/235 [==============================] - 0s 1ms/step - loss: 0.3269 - accuracy: 0.8664\n",
            "Epoch 53/100\n",
            "235/235 [==============================] - 0s 1ms/step - loss: 0.3257 - accuracy: 0.8677\n",
            "Epoch 54/100\n",
            "235/235 [==============================] - 0s 1ms/step - loss: 0.3258 - accuracy: 0.8652\n",
            "Epoch 55/100\n",
            "235/235 [==============================] - 0s 1ms/step - loss: 0.3274 - accuracy: 0.8647\n",
            "Epoch 56/100\n",
            "235/235 [==============================] - 0s 1ms/step - loss: 0.3273 - accuracy: 0.8641\n",
            "Epoch 57/100\n",
            "235/235 [==============================] - 0s 1ms/step - loss: 0.3260 - accuracy: 0.8647\n",
            "Epoch 58/100\n",
            "235/235 [==============================] - 0s 1ms/step - loss: 0.3260 - accuracy: 0.8644\n",
            "Epoch 59/100\n",
            "235/235 [==============================] - 0s 1ms/step - loss: 0.3265 - accuracy: 0.8645\n",
            "Epoch 60/100\n",
            "235/235 [==============================] - 0s 1ms/step - loss: 0.3273 - accuracy: 0.8648\n",
            "Epoch 61/100\n",
            "235/235 [==============================] - 0s 1ms/step - loss: 0.3245 - accuracy: 0.8664\n",
            "Epoch 62/100\n",
            "235/235 [==============================] - 0s 2ms/step - loss: 0.3258 - accuracy: 0.8675\n",
            "Epoch 63/100\n",
            "235/235 [==============================] - 0s 1ms/step - loss: 0.3246 - accuracy: 0.8659\n",
            "Epoch 64/100\n",
            "235/235 [==============================] - 0s 1ms/step - loss: 0.3258 - accuracy: 0.8656\n",
            "Epoch 65/100\n",
            "235/235 [==============================] - 0s 1ms/step - loss: 0.3237 - accuracy: 0.8644\n",
            "Epoch 66/100\n",
            "235/235 [==============================] - 0s 1ms/step - loss: 0.3264 - accuracy: 0.8680\n",
            "Epoch 67/100\n",
            "235/235 [==============================] - 0s 2ms/step - loss: 0.3253 - accuracy: 0.8669\n",
            "Epoch 68/100\n",
            "235/235 [==============================] - 0s 2ms/step - loss: 0.3243 - accuracy: 0.8668\n",
            "Epoch 69/100\n",
            "235/235 [==============================] - 0s 1ms/step - loss: 0.3241 - accuracy: 0.8649\n",
            "Epoch 70/100\n",
            "235/235 [==============================] - 0s 1ms/step - loss: 0.3241 - accuracy: 0.8659\n",
            "Epoch 71/100\n",
            "235/235 [==============================] - 0s 1ms/step - loss: 0.3254 - accuracy: 0.8667\n",
            "Epoch 72/100\n",
            "235/235 [==============================] - 0s 1ms/step - loss: 0.3238 - accuracy: 0.8669\n",
            "Epoch 73/100\n",
            "235/235 [==============================] - 0s 1ms/step - loss: 0.3236 - accuracy: 0.8652\n",
            "Epoch 74/100\n",
            "235/235 [==============================] - 0s 1ms/step - loss: 0.3245 - accuracy: 0.8653\n",
            "Epoch 75/100\n",
            "235/235 [==============================] - 0s 1ms/step - loss: 0.3234 - accuracy: 0.8667\n",
            "Epoch 76/100\n",
            "235/235 [==============================] - 0s 1ms/step - loss: 0.3233 - accuracy: 0.8659\n",
            "Epoch 77/100\n",
            "235/235 [==============================] - 0s 1ms/step - loss: 0.3249 - accuracy: 0.8659\n",
            "Epoch 78/100\n",
            "235/235 [==============================] - 0s 1ms/step - loss: 0.3230 - accuracy: 0.8671\n",
            "Epoch 79/100\n",
            "235/235 [==============================] - 0s 1ms/step - loss: 0.3246 - accuracy: 0.8645\n",
            "Epoch 80/100\n",
            "235/235 [==============================] - 0s 1ms/step - loss: 0.3233 - accuracy: 0.8663\n",
            "Epoch 81/100\n",
            "235/235 [==============================] - 0s 1ms/step - loss: 0.3232 - accuracy: 0.8680\n",
            "Epoch 82/100\n",
            "235/235 [==============================] - 0s 1ms/step - loss: 0.3231 - accuracy: 0.8663\n",
            "Epoch 83/100\n",
            "235/235 [==============================] - 0s 1ms/step - loss: 0.3228 - accuracy: 0.8676\n",
            "Epoch 84/100\n",
            "235/235 [==============================] - 0s 1ms/step - loss: 0.3234 - accuracy: 0.8649\n",
            "Epoch 85/100\n",
            "235/235 [==============================] - 0s 1ms/step - loss: 0.3230 - accuracy: 0.8665\n",
            "Epoch 86/100\n",
            "235/235 [==============================] - 0s 1ms/step - loss: 0.3238 - accuracy: 0.8649\n",
            "Epoch 87/100\n",
            "235/235 [==============================] - 0s 1ms/step - loss: 0.3241 - accuracy: 0.8655\n",
            "Epoch 88/100\n",
            "235/235 [==============================] - 0s 1ms/step - loss: 0.3231 - accuracy: 0.8676\n",
            "Epoch 89/100\n",
            "235/235 [==============================] - 0s 2ms/step - loss: 0.3241 - accuracy: 0.8667\n",
            "Epoch 90/100\n",
            "235/235 [==============================] - 0s 2ms/step - loss: 0.3224 - accuracy: 0.8683\n",
            "Epoch 91/100\n",
            "235/235 [==============================] - 1s 3ms/step - loss: 0.3225 - accuracy: 0.8663\n",
            "Epoch 92/100\n",
            "235/235 [==============================] - 1s 4ms/step - loss: 0.3215 - accuracy: 0.8645\n",
            "Epoch 93/100\n",
            "235/235 [==============================] - 1s 4ms/step - loss: 0.3214 - accuracy: 0.8677\n",
            "Epoch 94/100\n",
            "235/235 [==============================] - 1s 3ms/step - loss: 0.3236 - accuracy: 0.8659\n",
            "Epoch 95/100\n",
            "235/235 [==============================] - 1s 3ms/step - loss: 0.3222 - accuracy: 0.8660\n",
            "Epoch 96/100\n",
            "235/235 [==============================] - 1s 3ms/step - loss: 0.3211 - accuracy: 0.8665\n",
            "Epoch 97/100\n",
            "235/235 [==============================] - 1s 3ms/step - loss: 0.3227 - accuracy: 0.8657\n",
            "Epoch 98/100\n",
            "235/235 [==============================] - 1s 2ms/step - loss: 0.3233 - accuracy: 0.8656\n",
            "Epoch 99/100\n",
            "235/235 [==============================] - 1s 2ms/step - loss: 0.3204 - accuracy: 0.8647\n",
            "Epoch 100/100\n",
            "235/235 [==============================] - 1s 3ms/step - loss: 0.3216 - accuracy: 0.8660\n",
            "79/79 [==============================] - 1s 2ms/step - loss: 0.3561 - accuracy: 0.8624\n",
            "[0.3561232089996338, 0.8623999953269958]\n"
          ]
        }
      ]
    },
    {
      "cell_type": "code",
      "source": [
        "#gettin precisin, recall and f1 score \n",
        "print(\"Classification Report: \\n\", classification_report(y_test, y_preds))"
      ],
      "metadata": {
        "colab": {
          "base_uri": "https://localhost:8080/"
        },
        "id": "2NavnXg6WVMX",
        "outputId": "9dfb944e-54c0-4a1d-f93f-08c06cd1c326"
      },
      "execution_count": null,
      "outputs": [
        {
          "output_type": "stream",
          "name": "stdout",
          "text": [
            "Classification Report: \n",
            "               precision    recall  f1-score   support\n",
            "\n",
            "           0       0.87      0.97      0.92      1991\n",
            "           1       0.78      0.45      0.57       509\n",
            "\n",
            "    accuracy                           0.86      2500\n",
            "   macro avg       0.83      0.71      0.74      2500\n",
            "weighted avg       0.85      0.86      0.85      2500\n",
            "\n"
          ]
        }
      ]
    },
    {
      "cell_type": "markdown",
      "source": [
        "Since we have low f1 score due to data inbalance there fore SMOTE or Ensemble methods can be used or any other suitable method can be used to overcome this problem"
      ],
      "metadata": {
        "id": "JcJQv9jRXP2U"
      }
    },
    {
      "cell_type": "code",
      "source": [
        "y.head()"
      ],
      "metadata": {
        "colab": {
          "base_uri": "https://localhost:8080/"
        },
        "id": "FsKFlpy70Om_",
        "outputId": "6f19f7b8-fb4c-49b4-fbe8-be45dd9d4de9"
      },
      "execution_count": null,
      "outputs": [
        {
          "output_type": "execute_result",
          "data": {
            "text/plain": [
              "0    1\n",
              "1    0\n",
              "2    1\n",
              "3    0\n",
              "4    0\n",
              "Name: Exited, dtype: int64"
            ]
          },
          "metadata": {},
          "execution_count": 28
        }
      ]
    },
    {
      "cell_type": "code",
      "source": [
        "#dat is imbalanced we have more number of 0's than 1's\n",
        "df_0 = df[df['Exited'] == 0]\n",
        "df_1 = df[df['Exited'] == 1]"
      ],
      "metadata": {
        "id": "l8A1QD7izRfp"
      },
      "execution_count": null,
      "outputs": []
    },
    {
      "cell_type": "code",
      "source": [
        "df_0.shape"
      ],
      "metadata": {
        "colab": {
          "base_uri": "https://localhost:8080/"
        },
        "id": "CFw25qRt1ctI",
        "outputId": "a4d5ffa4-c55e-459b-f2bd-e9be220b5126"
      },
      "execution_count": null,
      "outputs": [
        {
          "output_type": "execute_result",
          "data": {
            "text/plain": [
              "(7963, 11)"
            ]
          },
          "metadata": {},
          "execution_count": 30
        }
      ]
    },
    {
      "cell_type": "code",
      "source": [
        "df_1.shape"
      ],
      "metadata": {
        "colab": {
          "base_uri": "https://localhost:8080/"
        },
        "id": "rUG1U6Qq1f_H",
        "outputId": "67e41286-8aa0-4fe7-8861-962941c547e0"
      },
      "execution_count": null,
      "outputs": [
        {
          "output_type": "execute_result",
          "data": {
            "text/plain": [
              "(2037, 11)"
            ]
          },
          "metadata": {},
          "execution_count": 31
        }
      ]
    },
    {
      "cell_type": "code",
      "source": [
        "from imblearn.over_sampling import SMOTE\n",
        "\n",
        "\n",
        "from imblearn.over_sampling import SMOTE\n",
        "\n",
        "smote = SMOTE(sampling_strategy='minority')\n",
        "X_sm, y_sm = smote.fit_resample(X,y)\n"
      ],
      "metadata": {
        "id": "gT4lOnKMXp3B"
      },
      "execution_count": null,
      "outputs": []
    },
    {
      "cell_type": "code",
      "source": [
        "X_sm.value_counts()"
      ],
      "metadata": {
        "colab": {
          "base_uri": "https://localhost:8080/"
        },
        "id": "PV1fK4D26ZcW",
        "outputId": "66ef82ed-e281-4831-bcbb-79e3f9dac4f1"
      },
      "execution_count": null,
      "outputs": [
        {
          "output_type": "execute_result",
          "data": {
            "text/plain": [
              "CreditScore  Gender  Age       Tenure    Balance   NumOfProducts  HasCrCard  IsActiveMember  EstimatedSalary  Geography_France  Geography_Germany  Geography_Spain\n",
              "0.000000     0       0.297297  0.000000  0.442805  0.000000       1          1               0.861630         1                 0                  0                  1\n",
              "0.678000     1       0.662162  0.900000  0.626130  0.000000       1          1               0.497440         0                 1                  0                  1\n",
              "                     0.054054  0.400000  0.543823  0.000000       1          0               0.259868         1                 0                  0                  1\n",
              "                     0.108108  0.400000  0.481183  0.000000       0          1               0.745383         0                 1                  0                  1\n",
              "                     0.202703  0.200000  0.644942  0.333333       1          0               0.846932         0                 1                  0                  1\n",
              "                                                                                                                                                                     ..\n",
              "0.513864     1       0.284705  0.957177  0.000000  0.000000       1          1               0.123447         1                 0                  0                  1\n",
              "0.513974     1       0.261758  0.604935  0.326084  0.000000       0          0               0.862655         1                 0                  0                  1\n",
              "             0       0.353609  0.059529  0.573693  0.000000       1          0               0.843267         0                 1                  0                  1\n",
              "0.513999     0       0.269276  0.379413  0.000000  0.666667       1          0               0.078578         1                 0                  0                  1\n",
              "1.000000     1       0.851351  0.500000  0.000000  0.333333       1          1               0.224101         1                 0                  0                  1\n",
              "Length: 15926, dtype: int64"
            ]
          },
          "metadata": {},
          "execution_count": 33
        }
      ]
    },
    {
      "cell_type": "code",
      "source": [
        "#After using smote we have balanced data\n",
        "y_sm.value_counts()"
      ],
      "metadata": {
        "colab": {
          "base_uri": "https://localhost:8080/"
        },
        "id": "txnCosol5pY3",
        "outputId": "56773a61-d977-4bdc-9372-a4443cd92bde"
      },
      "execution_count": null,
      "outputs": [
        {
          "output_type": "execute_result",
          "data": {
            "text/plain": [
              "1    7963\n",
              "0    7963\n",
              "Name: Exited, dtype: int64"
            ]
          },
          "metadata": {},
          "execution_count": 34
        }
      ]
    },
    {
      "cell_type": "code",
      "source": [
        "from sklearn.model_selection import train_test_split\n",
        "X_train, X_test, y_train, y_test = train_test_split(X_sm, y_sm, test_size=0.2, random_state=15,stratify=y_sm)"
      ],
      "metadata": {
        "id": "IV1Uy5Kg6FU6"
      },
      "execution_count": null,
      "outputs": []
    },
    {
      "cell_type": "code",
      "source": [
        "\n",
        "\n",
        "y_preds = ANN(X_train, y_train, X_test, y_test, 'binary_crossentropy')\n",
        "\n"
      ],
      "metadata": {
        "colab": {
          "base_uri": "https://localhost:8080/"
        },
        "id": "RkbO-AGS6-Tm",
        "outputId": "199248c9-30cf-4b96-ba3d-be3503b47552"
      },
      "execution_count": null,
      "outputs": [
        {
          "output_type": "stream",
          "name": "stdout",
          "text": [
            "Epoch 1/100\n",
            "399/399 [==============================] - 1s 1ms/step - loss: 0.6283 - accuracy: 0.6479\n",
            "Epoch 2/100\n",
            "399/399 [==============================] - 1s 1ms/step - loss: 0.5835 - accuracy: 0.6931\n",
            "Epoch 3/100\n",
            "399/399 [==============================] - 1s 2ms/step - loss: 0.5629 - accuracy: 0.7138\n",
            "Epoch 4/100\n",
            "399/399 [==============================] - 1s 1ms/step - loss: 0.5480 - accuracy: 0.7196\n",
            "Epoch 5/100\n",
            "399/399 [==============================] - 1s 1ms/step - loss: 0.5304 - accuracy: 0.7319\n",
            "Epoch 6/100\n",
            "399/399 [==============================] - 1s 1ms/step - loss: 0.5119 - accuracy: 0.7411\n",
            "Epoch 7/100\n",
            "399/399 [==============================] - 1s 1ms/step - loss: 0.4950 - accuracy: 0.7529\n",
            "Epoch 8/100\n",
            "399/399 [==============================] - 1s 1ms/step - loss: 0.4795 - accuracy: 0.7659\n",
            "Epoch 9/100\n",
            "399/399 [==============================] - 1s 1ms/step - loss: 0.4706 - accuracy: 0.7714\n",
            "Epoch 10/100\n",
            "399/399 [==============================] - 1s 1ms/step - loss: 0.4626 - accuracy: 0.7752\n",
            "Epoch 11/100\n",
            "399/399 [==============================] - 1s 1ms/step - loss: 0.4588 - accuracy: 0.7770\n",
            "Epoch 12/100\n",
            "399/399 [==============================] - 1s 1ms/step - loss: 0.4548 - accuracy: 0.7816\n",
            "Epoch 13/100\n",
            "399/399 [==============================] - 1s 1ms/step - loss: 0.4516 - accuracy: 0.7843\n",
            "Epoch 14/100\n",
            "399/399 [==============================] - 1s 1ms/step - loss: 0.4487 - accuracy: 0.7842\n",
            "Epoch 15/100\n",
            "399/399 [==============================] - 1s 1ms/step - loss: 0.4467 - accuracy: 0.7907\n",
            "Epoch 16/100\n",
            "399/399 [==============================] - 1s 1ms/step - loss: 0.4450 - accuracy: 0.7887\n",
            "Epoch 17/100\n",
            "399/399 [==============================] - 1s 1ms/step - loss: 0.4442 - accuracy: 0.7889\n",
            "Epoch 18/100\n",
            "399/399 [==============================] - 1s 1ms/step - loss: 0.4421 - accuracy: 0.7892\n",
            "Epoch 19/100\n",
            "399/399 [==============================] - 1s 1ms/step - loss: 0.4412 - accuracy: 0.7919\n",
            "Epoch 20/100\n",
            "399/399 [==============================] - 1s 1ms/step - loss: 0.4388 - accuracy: 0.7943\n",
            "Epoch 21/100\n",
            "399/399 [==============================] - 1s 1ms/step - loss: 0.4383 - accuracy: 0.7928\n",
            "Epoch 22/100\n",
            "399/399 [==============================] - 1s 1ms/step - loss: 0.4370 - accuracy: 0.7937\n",
            "Epoch 23/100\n",
            "399/399 [==============================] - 1s 1ms/step - loss: 0.4361 - accuracy: 0.7937\n",
            "Epoch 24/100\n",
            "399/399 [==============================] - 1s 1ms/step - loss: 0.4350 - accuracy: 0.7947\n",
            "Epoch 25/100\n",
            "399/399 [==============================] - 1s 1ms/step - loss: 0.4344 - accuracy: 0.7943\n",
            "Epoch 26/100\n",
            "399/399 [==============================] - 1s 1ms/step - loss: 0.4336 - accuracy: 0.7954\n",
            "Epoch 27/100\n",
            "399/399 [==============================] - 1s 1ms/step - loss: 0.4329 - accuracy: 0.7943\n",
            "Epoch 28/100\n",
            "399/399 [==============================] - 1s 1ms/step - loss: 0.4325 - accuracy: 0.7966\n",
            "Epoch 29/100\n",
            "399/399 [==============================] - 1s 1ms/step - loss: 0.4314 - accuracy: 0.7961\n",
            "Epoch 30/100\n",
            "399/399 [==============================] - 1s 1ms/step - loss: 0.4301 - accuracy: 0.7976\n",
            "Epoch 31/100\n",
            "399/399 [==============================] - 1s 1ms/step - loss: 0.4290 - accuracy: 0.7944\n",
            "Epoch 32/100\n",
            "399/399 [==============================] - 1s 2ms/step - loss: 0.4290 - accuracy: 0.7961\n",
            "Epoch 33/100\n",
            "399/399 [==============================] - 1s 3ms/step - loss: 0.4300 - accuracy: 0.7969\n",
            "Epoch 34/100\n",
            "399/399 [==============================] - 1s 4ms/step - loss: 0.4287 - accuracy: 0.7959\n",
            "Epoch 35/100\n",
            "399/399 [==============================] - 1s 3ms/step - loss: 0.4267 - accuracy: 0.7977\n",
            "Epoch 36/100\n",
            "399/399 [==============================] - 1s 3ms/step - loss: 0.4274 - accuracy: 0.7964\n",
            "Epoch 37/100\n",
            "399/399 [==============================] - 1s 3ms/step - loss: 0.4248 - accuracy: 0.7986\n",
            "Epoch 38/100\n",
            "399/399 [==============================] - 1s 3ms/step - loss: 0.4252 - accuracy: 0.7975\n",
            "Epoch 39/100\n",
            "399/399 [==============================] - 1s 1ms/step - loss: 0.4242 - accuracy: 0.8006\n",
            "Epoch 40/100\n",
            "399/399 [==============================] - 1s 1ms/step - loss: 0.4237 - accuracy: 0.7983\n",
            "Epoch 41/100\n",
            "399/399 [==============================] - 1s 1ms/step - loss: 0.4245 - accuracy: 0.8002\n",
            "Epoch 42/100\n",
            "399/399 [==============================] - 1s 1ms/step - loss: 0.4220 - accuracy: 0.8001\n",
            "Epoch 43/100\n",
            "399/399 [==============================] - 1s 1ms/step - loss: 0.4219 - accuracy: 0.7987\n",
            "Epoch 44/100\n",
            "399/399 [==============================] - 1s 1ms/step - loss: 0.4211 - accuracy: 0.8010\n",
            "Epoch 45/100\n",
            "399/399 [==============================] - 1s 1ms/step - loss: 0.4211 - accuracy: 0.8008\n",
            "Epoch 46/100\n",
            "399/399 [==============================] - 1s 1ms/step - loss: 0.4194 - accuracy: 0.8024\n",
            "Epoch 47/100\n",
            "399/399 [==============================] - 1s 1ms/step - loss: 0.4202 - accuracy: 0.8007\n",
            "Epoch 48/100\n",
            "399/399 [==============================] - 1s 1ms/step - loss: 0.4185 - accuracy: 0.8019\n",
            "Epoch 49/100\n",
            "399/399 [==============================] - 1s 1ms/step - loss: 0.4174 - accuracy: 0.8043\n",
            "Epoch 50/100\n",
            "399/399 [==============================] - 1s 1ms/step - loss: 0.4173 - accuracy: 0.8015\n",
            "Epoch 51/100\n",
            "399/399 [==============================] - 1s 1ms/step - loss: 0.4181 - accuracy: 0.8030\n",
            "Epoch 52/100\n",
            "399/399 [==============================] - 1s 1ms/step - loss: 0.4162 - accuracy: 0.8031\n",
            "Epoch 53/100\n",
            "399/399 [==============================] - 1s 1ms/step - loss: 0.4156 - accuracy: 0.8078\n",
            "Epoch 54/100\n",
            "399/399 [==============================] - 1s 1ms/step - loss: 0.4161 - accuracy: 0.8051\n",
            "Epoch 55/100\n",
            "399/399 [==============================] - 1s 1ms/step - loss: 0.4146 - accuracy: 0.8026\n",
            "Epoch 56/100\n",
            "399/399 [==============================] - 1s 1ms/step - loss: 0.4137 - accuracy: 0.8046\n",
            "Epoch 57/100\n",
            "399/399 [==============================] - 1s 1ms/step - loss: 0.4119 - accuracy: 0.8072\n",
            "Epoch 58/100\n",
            "399/399 [==============================] - 1s 1ms/step - loss: 0.4127 - accuracy: 0.8046\n",
            "Epoch 59/100\n",
            "399/399 [==============================] - 1s 1ms/step - loss: 0.4119 - accuracy: 0.8060\n",
            "Epoch 60/100\n",
            "399/399 [==============================] - 1s 1ms/step - loss: 0.4114 - accuracy: 0.8075\n",
            "Epoch 61/100\n",
            "399/399 [==============================] - 1s 1ms/step - loss: 0.4103 - accuracy: 0.8062\n",
            "Epoch 62/100\n",
            "399/399 [==============================] - 1s 1ms/step - loss: 0.4099 - accuracy: 0.8052\n",
            "Epoch 63/100\n",
            "399/399 [==============================] - 1s 1ms/step - loss: 0.4090 - accuracy: 0.8092\n",
            "Epoch 64/100\n",
            "399/399 [==============================] - 1s 1ms/step - loss: 0.4075 - accuracy: 0.8105\n",
            "Epoch 65/100\n",
            "399/399 [==============================] - 1s 1ms/step - loss: 0.4084 - accuracy: 0.8086\n",
            "Epoch 66/100\n",
            "399/399 [==============================] - 1s 1ms/step - loss: 0.4082 - accuracy: 0.8090\n",
            "Epoch 67/100\n",
            "399/399 [==============================] - 1s 1ms/step - loss: 0.4068 - accuracy: 0.8100\n",
            "Epoch 68/100\n",
            "399/399 [==============================] - 1s 1ms/step - loss: 0.4055 - accuracy: 0.8093\n",
            "Epoch 69/100\n",
            "399/399 [==============================] - 1s 1ms/step - loss: 0.4041 - accuracy: 0.8115\n",
            "Epoch 70/100\n",
            "399/399 [==============================] - 1s 1ms/step - loss: 0.4053 - accuracy: 0.8075\n",
            "Epoch 71/100\n",
            "399/399 [==============================] - 1s 1ms/step - loss: 0.4048 - accuracy: 0.8093\n",
            "Epoch 72/100\n",
            "399/399 [==============================] - 1s 1ms/step - loss: 0.4034 - accuracy: 0.8111\n",
            "Epoch 73/100\n",
            "399/399 [==============================] - 1s 1ms/step - loss: 0.4035 - accuracy: 0.8114\n",
            "Epoch 74/100\n",
            "399/399 [==============================] - 1s 1ms/step - loss: 0.4026 - accuracy: 0.8109\n",
            "Epoch 75/100\n",
            "399/399 [==============================] - 1s 1ms/step - loss: 0.4019 - accuracy: 0.8132\n",
            "Epoch 76/100\n",
            "399/399 [==============================] - 1s 1ms/step - loss: 0.4020 - accuracy: 0.8119\n",
            "Epoch 77/100\n",
            "399/399 [==============================] - 1s 1ms/step - loss: 0.4018 - accuracy: 0.8135\n",
            "Epoch 78/100\n",
            "399/399 [==============================] - 1s 1ms/step - loss: 0.4003 - accuracy: 0.8134\n",
            "Epoch 79/100\n",
            "399/399 [==============================] - 1s 1ms/step - loss: 0.4008 - accuracy: 0.8115\n",
            "Epoch 80/100\n",
            "399/399 [==============================] - 1s 1ms/step - loss: 0.3988 - accuracy: 0.8143\n",
            "Epoch 81/100\n",
            "399/399 [==============================] - 1s 1ms/step - loss: 0.3993 - accuracy: 0.8142\n",
            "Epoch 82/100\n",
            "399/399 [==============================] - 1s 1ms/step - loss: 0.3983 - accuracy: 0.8151\n",
            "Epoch 83/100\n",
            "399/399 [==============================] - 1s 1ms/step - loss: 0.3960 - accuracy: 0.8126\n",
            "Epoch 84/100\n",
            "399/399 [==============================] - 1s 1ms/step - loss: 0.3967 - accuracy: 0.8137\n",
            "Epoch 85/100\n",
            "399/399 [==============================] - 1s 1ms/step - loss: 0.3962 - accuracy: 0.8158\n",
            "Epoch 86/100\n",
            "399/399 [==============================] - 1s 1ms/step - loss: 0.3952 - accuracy: 0.8185\n",
            "Epoch 87/100\n",
            "399/399 [==============================] - 1s 1ms/step - loss: 0.3949 - accuracy: 0.8191\n",
            "Epoch 88/100\n",
            "399/399 [==============================] - 1s 1ms/step - loss: 0.3944 - accuracy: 0.8168\n",
            "Epoch 89/100\n",
            "399/399 [==============================] - 1s 1ms/step - loss: 0.3946 - accuracy: 0.8163\n",
            "Epoch 90/100\n",
            "399/399 [==============================] - 1s 1ms/step - loss: 0.3930 - accuracy: 0.8173\n",
            "Epoch 91/100\n",
            "399/399 [==============================] - 1s 1ms/step - loss: 0.3929 - accuracy: 0.8169\n",
            "Epoch 92/100\n",
            "399/399 [==============================] - 1s 2ms/step - loss: 0.3920 - accuracy: 0.8170\n",
            "Epoch 93/100\n",
            "399/399 [==============================] - 1s 1ms/step - loss: 0.3909 - accuracy: 0.8166\n",
            "Epoch 94/100\n",
            "399/399 [==============================] - 1s 1ms/step - loss: 0.3905 - accuracy: 0.8191\n",
            "Epoch 95/100\n",
            "399/399 [==============================] - 1s 1ms/step - loss: 0.3896 - accuracy: 0.8184\n",
            "Epoch 96/100\n",
            "399/399 [==============================] - 1s 2ms/step - loss: 0.3896 - accuracy: 0.8194\n",
            "Epoch 97/100\n",
            "399/399 [==============================] - 1s 1ms/step - loss: 0.3872 - accuracy: 0.8195\n",
            "Epoch 98/100\n",
            "399/399 [==============================] - 1s 1ms/step - loss: 0.3883 - accuracy: 0.8203\n",
            "Epoch 99/100\n",
            "399/399 [==============================] - 1s 1ms/step - loss: 0.3882 - accuracy: 0.8174\n",
            "Epoch 100/100\n",
            "399/399 [==============================] - 1s 1ms/step - loss: 0.3871 - accuracy: 0.8227\n",
            "100/100 [==============================] - 0s 941us/step - loss: 0.3976 - accuracy: 0.8126\n",
            "[0.3976268470287323, 0.8126177191734314]\n"
          ]
        }
      ]
    },
    {
      "cell_type": "code",
      "source": [
        "print(\"Classification Report: \\n\", classification_report(y_test, y_preds))"
      ],
      "metadata": {
        "colab": {
          "base_uri": "https://localhost:8080/"
        },
        "id": "J3u1yRec7e5I",
        "outputId": "8e93f657-9f74-470a-9fc1-85e8bf4cdcef"
      },
      "execution_count": null,
      "outputs": [
        {
          "output_type": "stream",
          "name": "stdout",
          "text": [
            "Classification Report: \n",
            "               precision    recall  f1-score   support\n",
            "\n",
            "           0       0.78      0.86      0.82      1593\n",
            "           1       0.85      0.76      0.80      1593\n",
            "\n",
            "    accuracy                           0.81      3186\n",
            "   macro avg       0.82      0.81      0.81      3186\n",
            "weighted avg       0.82      0.81      0.81      3186\n",
            "\n"
          ]
        }
      ]
    },
    {
      "cell_type": "markdown",
      "source": [
        "The f1-score,precision,recall have increassed after applying smote technique"
      ],
      "metadata": {
        "id": "kSr_iPZz7teP"
      }
    },
    {
      "cell_type": "code",
      "source": [
        "from imblearn.over_sampling import ADASYN\n",
        "\n",
        "Aaptiv = ADASYN(sampling_strategy='minority')\n",
        "AX_sm, Ay_sm = Aaptiv.fit_resample(X,y)"
      ],
      "metadata": {
        "id": "9cFGeZafQBU3"
      },
      "execution_count": null,
      "outputs": []
    },
    {
      "cell_type": "code",
      "source": [
        "X_train, X_test, y_train, y_test = train_test_split(AX_sm,Ay_sm, test_size=0.2, random_state=15,stratify=Ay_sm)"
      ],
      "metadata": {
        "id": "lo1RFSYmQREw"
      },
      "execution_count": null,
      "outputs": []
    },
    {
      "cell_type": "code",
      "source": [
        "y_preds = ANN(X_train, y_train, X_test, y_test, 'binary_crossentropy')"
      ],
      "metadata": {
        "colab": {
          "base_uri": "https://localhost:8080/"
        },
        "id": "CgnIEWGsQib6",
        "outputId": "32e53b5d-3687-48a1-e4b7-530ec1e2fdbc"
      },
      "execution_count": null,
      "outputs": [
        {
          "output_type": "stream",
          "name": "stdout",
          "text": [
            "Epoch 1/100\n",
            "410/410 [==============================] - 1s 2ms/step - loss: 0.6581 - accuracy: 0.6172\n",
            "Epoch 2/100\n",
            "410/410 [==============================] - 1s 1ms/step - loss: 0.6122 - accuracy: 0.6646\n",
            "Epoch 3/100\n",
            "410/410 [==============================] - 1s 1ms/step - loss: 0.5733 - accuracy: 0.7030\n",
            "Epoch 4/100\n",
            "410/410 [==============================] - 1s 1ms/step - loss: 0.5534 - accuracy: 0.7225\n",
            "Epoch 5/100\n",
            "410/410 [==============================] - 1s 1ms/step - loss: 0.5348 - accuracy: 0.7305\n",
            "Epoch 6/100\n",
            "410/410 [==============================] - 1s 1ms/step - loss: 0.5202 - accuracy: 0.7365\n",
            "Epoch 7/100\n",
            "410/410 [==============================] - 1s 1ms/step - loss: 0.5110 - accuracy: 0.7439\n",
            "Epoch 8/100\n",
            "410/410 [==============================] - 1s 1ms/step - loss: 0.5041 - accuracy: 0.7454\n",
            "Epoch 9/100\n",
            "410/410 [==============================] - 1s 1ms/step - loss: 0.4999 - accuracy: 0.7508\n",
            "Epoch 10/100\n",
            "410/410 [==============================] - 1s 1ms/step - loss: 0.4949 - accuracy: 0.7555\n",
            "Epoch 11/100\n",
            "410/410 [==============================] - 1s 1ms/step - loss: 0.4919 - accuracy: 0.7566\n",
            "Epoch 12/100\n",
            "410/410 [==============================] - 1s 1ms/step - loss: 0.4890 - accuracy: 0.7572\n",
            "Epoch 13/100\n",
            "410/410 [==============================] - 1s 1ms/step - loss: 0.4859 - accuracy: 0.7605\n",
            "Epoch 14/100\n",
            "410/410 [==============================] - 1s 1ms/step - loss: 0.4842 - accuracy: 0.7608\n",
            "Epoch 15/100\n",
            "410/410 [==============================] - 1s 1ms/step - loss: 0.4812 - accuracy: 0.7653\n",
            "Epoch 16/100\n",
            "410/410 [==============================] - 1s 1ms/step - loss: 0.4790 - accuracy: 0.7643\n",
            "Epoch 17/100\n",
            "410/410 [==============================] - 1s 1ms/step - loss: 0.4785 - accuracy: 0.7649\n",
            "Epoch 18/100\n",
            "410/410 [==============================] - 1s 1ms/step - loss: 0.4773 - accuracy: 0.7654\n",
            "Epoch 19/100\n",
            "410/410 [==============================] - 1s 1ms/step - loss: 0.4740 - accuracy: 0.7703\n",
            "Epoch 20/100\n",
            "410/410 [==============================] - 1s 1ms/step - loss: 0.4729 - accuracy: 0.7706\n",
            "Epoch 21/100\n",
            "410/410 [==============================] - 1s 1ms/step - loss: 0.4725 - accuracy: 0.7698\n",
            "Epoch 22/100\n",
            "410/410 [==============================] - 1s 1ms/step - loss: 0.4720 - accuracy: 0.7726\n",
            "Epoch 23/100\n",
            "410/410 [==============================] - 1s 1ms/step - loss: 0.4703 - accuracy: 0.7683\n",
            "Epoch 24/100\n",
            "410/410 [==============================] - 1s 1ms/step - loss: 0.4696 - accuracy: 0.7734\n",
            "Epoch 25/100\n",
            "410/410 [==============================] - 1s 1ms/step - loss: 0.4678 - accuracy: 0.7718\n",
            "Epoch 26/100\n",
            "410/410 [==============================] - 1s 1ms/step - loss: 0.4670 - accuracy: 0.7721\n",
            "Epoch 27/100\n",
            "410/410 [==============================] - 1s 1ms/step - loss: 0.4658 - accuracy: 0.7728\n",
            "Epoch 28/100\n",
            "410/410 [==============================] - 1s 1ms/step - loss: 0.4646 - accuracy: 0.7742\n",
            "Epoch 29/100\n",
            "410/410 [==============================] - 1s 1ms/step - loss: 0.4643 - accuracy: 0.7760\n",
            "Epoch 30/100\n",
            "410/410 [==============================] - 1s 1ms/step - loss: 0.4649 - accuracy: 0.7738\n",
            "Epoch 31/100\n",
            "410/410 [==============================] - 1s 1ms/step - loss: 0.4635 - accuracy: 0.7756\n",
            "Epoch 32/100\n",
            "410/410 [==============================] - 1s 1ms/step - loss: 0.4612 - accuracy: 0.7774\n",
            "Epoch 33/100\n",
            "410/410 [==============================] - 1s 1ms/step - loss: 0.4598 - accuracy: 0.7771\n",
            "Epoch 34/100\n",
            "410/410 [==============================] - 1s 1ms/step - loss: 0.4598 - accuracy: 0.7764\n",
            "Epoch 35/100\n",
            "410/410 [==============================] - 1s 1ms/step - loss: 0.4586 - accuracy: 0.7794\n",
            "Epoch 36/100\n",
            "410/410 [==============================] - 1s 1ms/step - loss: 0.4593 - accuracy: 0.7776\n",
            "Epoch 37/100\n",
            "410/410 [==============================] - 1s 2ms/step - loss: 0.4570 - accuracy: 0.7785\n",
            "Epoch 38/100\n",
            "410/410 [==============================] - 1s 1ms/step - loss: 0.4560 - accuracy: 0.7778\n",
            "Epoch 39/100\n",
            "410/410 [==============================] - 1s 1ms/step - loss: 0.4539 - accuracy: 0.7804\n",
            "Epoch 40/100\n",
            "410/410 [==============================] - 1s 1ms/step - loss: 0.4541 - accuracy: 0.7804\n",
            "Epoch 41/100\n",
            "410/410 [==============================] - 1s 1ms/step - loss: 0.4542 - accuracy: 0.7793\n",
            "Epoch 42/100\n",
            "410/410 [==============================] - 1s 1ms/step - loss: 0.4538 - accuracy: 0.7793\n",
            "Epoch 43/100\n",
            "410/410 [==============================] - 1s 1ms/step - loss: 0.4523 - accuracy: 0.7829\n",
            "Epoch 44/100\n",
            "410/410 [==============================] - 1s 1ms/step - loss: 0.4508 - accuracy: 0.7829\n",
            "Epoch 45/100\n",
            "410/410 [==============================] - 1s 1ms/step - loss: 0.4497 - accuracy: 0.7861\n",
            "Epoch 46/100\n",
            "410/410 [==============================] - 1s 1ms/step - loss: 0.4490 - accuracy: 0.7833\n",
            "Epoch 47/100\n",
            "410/410 [==============================] - 1s 1ms/step - loss: 0.4480 - accuracy: 0.7864\n",
            "Epoch 48/100\n",
            "410/410 [==============================] - 1s 1ms/step - loss: 0.4471 - accuracy: 0.7879\n",
            "Epoch 49/100\n",
            "410/410 [==============================] - 1s 1ms/step - loss: 0.4456 - accuracy: 0.7864\n",
            "Epoch 50/100\n",
            "410/410 [==============================] - 1s 1ms/step - loss: 0.4481 - accuracy: 0.7833\n",
            "Epoch 51/100\n",
            "410/410 [==============================] - 1s 1ms/step - loss: 0.4446 - accuracy: 0.7870\n",
            "Epoch 52/100\n",
            "410/410 [==============================] - 1s 1ms/step - loss: 0.4451 - accuracy: 0.7880\n",
            "Epoch 53/100\n",
            "410/410 [==============================] - 1s 1ms/step - loss: 0.4446 - accuracy: 0.7861\n",
            "Epoch 54/100\n",
            "410/410 [==============================] - 1s 1ms/step - loss: 0.4424 - accuracy: 0.7877\n",
            "Epoch 55/100\n",
            "410/410 [==============================] - 1s 1ms/step - loss: 0.4430 - accuracy: 0.7915\n",
            "Epoch 56/100\n",
            "410/410 [==============================] - 1s 1ms/step - loss: 0.4406 - accuracy: 0.7897\n",
            "Epoch 57/100\n",
            "410/410 [==============================] - 1s 1ms/step - loss: 0.4423 - accuracy: 0.7872\n",
            "Epoch 58/100\n",
            "410/410 [==============================] - 1s 1ms/step - loss: 0.4395 - accuracy: 0.7913\n",
            "Epoch 59/100\n",
            "410/410 [==============================] - 1s 1ms/step - loss: 0.4407 - accuracy: 0.7904\n",
            "Epoch 60/100\n",
            "410/410 [==============================] - 1s 1ms/step - loss: 0.4372 - accuracy: 0.7936\n",
            "Epoch 61/100\n",
            "410/410 [==============================] - 1s 1ms/step - loss: 0.4379 - accuracy: 0.7916\n",
            "Epoch 62/100\n",
            "410/410 [==============================] - 1s 1ms/step - loss: 0.4390 - accuracy: 0.7902\n",
            "Epoch 63/100\n",
            "410/410 [==============================] - 1s 1ms/step - loss: 0.4361 - accuracy: 0.7917\n",
            "Epoch 64/100\n",
            "410/410 [==============================] - 1s 1ms/step - loss: 0.4351 - accuracy: 0.7929\n",
            "Epoch 65/100\n",
            "410/410 [==============================] - 1s 1ms/step - loss: 0.4333 - accuracy: 0.7942\n",
            "Epoch 66/100\n",
            "410/410 [==============================] - 1s 1ms/step - loss: 0.4339 - accuracy: 0.7932\n",
            "Epoch 67/100\n",
            "410/410 [==============================] - 1s 1ms/step - loss: 0.4338 - accuracy: 0.7940\n",
            "Epoch 68/100\n",
            "410/410 [==============================] - 1s 1ms/step - loss: 0.4323 - accuracy: 0.7965\n",
            "Epoch 69/100\n",
            "410/410 [==============================] - 1s 1ms/step - loss: 0.4315 - accuracy: 0.7951\n",
            "Epoch 70/100\n",
            "410/410 [==============================] - 1s 1ms/step - loss: 0.4316 - accuracy: 0.7935\n",
            "Epoch 71/100\n",
            "410/410 [==============================] - 1s 1ms/step - loss: 0.4307 - accuracy: 0.7951\n",
            "Epoch 72/100\n",
            "410/410 [==============================] - 1s 1ms/step - loss: 0.4286 - accuracy: 0.7986\n",
            "Epoch 73/100\n",
            "410/410 [==============================] - 1s 2ms/step - loss: 0.4291 - accuracy: 0.7960\n",
            "Epoch 74/100\n",
            "410/410 [==============================] - 1s 1ms/step - loss: 0.4285 - accuracy: 0.7943\n",
            "Epoch 75/100\n",
            "410/410 [==============================] - 1s 1ms/step - loss: 0.4275 - accuracy: 0.7968\n",
            "Epoch 76/100\n",
            "410/410 [==============================] - 1s 1ms/step - loss: 0.4268 - accuracy: 0.7979\n",
            "Epoch 77/100\n",
            "410/410 [==============================] - 1s 1ms/step - loss: 0.4255 - accuracy: 0.7995\n",
            "Epoch 78/100\n",
            "410/410 [==============================] - 1s 1ms/step - loss: 0.4247 - accuracy: 0.7968\n",
            "Epoch 79/100\n",
            "410/410 [==============================] - 1s 1ms/step - loss: 0.4257 - accuracy: 0.7971\n",
            "Epoch 80/100\n",
            "410/410 [==============================] - 1s 1ms/step - loss: 0.4240 - accuracy: 0.7993\n",
            "Epoch 81/100\n",
            "410/410 [==============================] - 1s 1ms/step - loss: 0.4228 - accuracy: 0.7999\n",
            "Epoch 82/100\n",
            "410/410 [==============================] - 1s 1ms/step - loss: 0.4237 - accuracy: 0.7990\n",
            "Epoch 83/100\n",
            "410/410 [==============================] - 1s 1ms/step - loss: 0.4229 - accuracy: 0.8007\n",
            "Epoch 84/100\n",
            "410/410 [==============================] - 1s 1ms/step - loss: 0.4205 - accuracy: 0.8008\n",
            "Epoch 85/100\n",
            "410/410 [==============================] - 1s 1ms/step - loss: 0.4193 - accuracy: 0.8006\n",
            "Epoch 86/100\n",
            "410/410 [==============================] - 1s 2ms/step - loss: 0.4212 - accuracy: 0.8021\n",
            "Epoch 87/100\n",
            "410/410 [==============================] - 1s 1ms/step - loss: 0.4190 - accuracy: 0.8000\n",
            "Epoch 88/100\n",
            "410/410 [==============================] - 1s 1ms/step - loss: 0.4180 - accuracy: 0.8013\n",
            "Epoch 89/100\n",
            "410/410 [==============================] - 1s 1ms/step - loss: 0.4174 - accuracy: 0.8039\n",
            "Epoch 90/100\n",
            "410/410 [==============================] - 1s 1ms/step - loss: 0.4183 - accuracy: 0.8020\n",
            "Epoch 91/100\n",
            "410/410 [==============================] - 1s 1ms/step - loss: 0.4164 - accuracy: 0.8027\n",
            "Epoch 92/100\n",
            "410/410 [==============================] - 1s 1ms/step - loss: 0.4166 - accuracy: 0.8026\n",
            "Epoch 93/100\n",
            "410/410 [==============================] - 1s 1ms/step - loss: 0.4150 - accuracy: 0.8053\n",
            "Epoch 94/100\n",
            "410/410 [==============================] - 1s 1ms/step - loss: 0.4143 - accuracy: 0.8041\n",
            "Epoch 95/100\n",
            "410/410 [==============================] - 1s 1ms/step - loss: 0.4153 - accuracy: 0.8040\n",
            "Epoch 96/100\n",
            "410/410 [==============================] - 1s 1ms/step - loss: 0.4144 - accuracy: 0.8045\n",
            "Epoch 97/100\n",
            "410/410 [==============================] - 1s 1ms/step - loss: 0.4121 - accuracy: 0.8053\n",
            "Epoch 98/100\n",
            "410/410 [==============================] - 1s 1ms/step - loss: 0.4145 - accuracy: 0.8061\n",
            "Epoch 99/100\n",
            "410/410 [==============================] - 1s 1ms/step - loss: 0.4122 - accuracy: 0.8066\n",
            "Epoch 100/100\n",
            "410/410 [==============================] - 1s 2ms/step - loss: 0.4117 - accuracy: 0.8083\n",
            "103/103 [==============================] - 0s 1ms/step - loss: 0.4346 - accuracy: 0.7873\n",
            "[0.4345987141132355, 0.7872599959373474]\n"
          ]
        }
      ]
    },
    {
      "cell_type": "code",
      "source": [
        "print(\"Classification Report: \\n\", classification_report(y_test, y_preds))"
      ],
      "metadata": {
        "colab": {
          "base_uri": "https://localhost:8080/"
        },
        "id": "zju0yBNjQ4Sa",
        "outputId": "e6a25af4-8f74-4fe3-e453-4ab6c622a457"
      },
      "execution_count": null,
      "outputs": [
        {
          "output_type": "stream",
          "name": "stdout",
          "text": [
            "Classification Report: \n",
            "               precision    recall  f1-score   support\n",
            "\n",
            "           0       0.77      0.81      0.79      1593\n",
            "           1       0.81      0.77      0.79      1688\n",
            "\n",
            "    accuracy                           0.79      3281\n",
            "   macro avg       0.79      0.79      0.79      3281\n",
            "weighted avg       0.79      0.79      0.79      3281\n",
            "\n"
          ]
        }
      ]
    },
    {
      "cell_type": "markdown",
      "source": [
        "#SMOTE seems to be more reliable compare to ADASYN for this dataset"
      ],
      "metadata": {
        "id": "LJdO03ZaQ-7w"
      }
    }
  ]
}